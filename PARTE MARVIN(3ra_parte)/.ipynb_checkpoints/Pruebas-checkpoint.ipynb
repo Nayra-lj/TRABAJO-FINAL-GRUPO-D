{
 "cells": [
  {
   "cell_type": "code",
   "execution_count": 1,
   "metadata": {},
   "outputs": [],
   "source": [
    "from bs4 import BeautifulSoup as soup\n",
    "import requests\n",
    "import urllib.request   \n",
    "import pandas as pd\n",
    "\n",
    "from urllib.request import urlopen\n",
    "from bs4 import BeautifulSoup as soup\n",
    "\n"
   ]
  },
  {
   "cell_type": "code",
   "execution_count": 2,
   "metadata": {},
   "outputs": [
    {
     "name": "stdout",
     "output_type": "stream",
     "text": [
      "162\n",
      "['KCNH7', 'GCA', 'IFIH1', 'FAP', 'GCG', 'DPP4', 'SLC4A10', 'TBR1', 'PSMD14', 'TRNAL-CAA', 'TANK', 'NXPH2', 'SPOPL', 'HNMT', 'THSD7B', 'TRNAC-GCA ', 'CXCR4', 'DARS', 'MCM6', 'LCT', 'UBXN4', 'R3HDM1', 'MIR128-1', 'ZRANB3', 'RAB3GAP1', 'MAP3K19', 'CCNT2', 'ACMSD', 'TMEM163', 'MGAT5', 'NCKAP5', 'LYPD1', 'GPR39', 'SLC35F5', 'ACTR3', 'DPP10', 'GLULP (GLUL)', 'CREB1', 'METTL21A', 'CCNYL1', 'FZD5', 'PLEKHM3', 'CRYGD', 'CRYGC', 'CRYGB', 'CRYGA', 'C2H2 or f80 (c2orf80)', 'IDH1', 'PIKFYVE', 'PTH2R', 'MAP2', 'MREG', 'TMEM169', 'PECR', 'XRCC5', 'MARCH4', 'SMARCAL1', 'RPL37A', 'IGFBP2', 'IGFBP5', 'TNP1', 'TNS1', 'MIR2356', 'RUFY4', 'CXCR2', 'CXCR1', 'ARPC2', 'GPBAR1', 'AAMP', 'PNKD', 'TMBIM1', 'CATIP', 'SLC11A1', 'CTDSP1', 'MIR26B', 'VIL1', 'USP37', 'CNOT9', 'PLCD4', 'ZNF142', 'BCS1L', 'RNF25', 'STK36', 'TTLL4', 'CYP27A1', 'PRKAG3', 'WNT6', 'WNT10A', 'CDK5R2', 'FEV', 'CRYBA2', 'MIR375', 'CFAP65', 'IHH', 'NHEJ1', 'SLC23A3', 'CNPPD1', 'RETREG2', 'ZFAND2B', 'ABCB6', 'ATG9A', 'ANKZF1', 'GLB1L', 'STK16', 'TUBA4A', 'TUBA1D', 'DNAJB2', 'PTPRN', 'MIR153-1', 'RESP18', 'DNPEP', 'DES', 'SPEG', 'GMPPA', 'ASIC4', 'CHPF', 'TMEM198', 'OBSL1', 'INHA', 'TNS2', 'MIR2357', 'PTPRU', 'MECR', 'SRSF4', 'TMEM200B', 'EPB41', 'OPRD1', 'YTHDF2', 'GMEB1', 'TAF12', 'RAB42', 'SNHG12', 'TRNAU1AP', 'RCC1', 'SNHG3', 'PHACTR4', 'MED18', 'SESN2', 'ATP5IF1', 'DNAJC8', 'PTAFR', 'EYA3', 'XKR8', 'SMPDL3B', 'RPA2', 'THEMIS2', 'PPP1R8', 'STX12', 'FAM76A', 'IFI6', 'FGR', 'AHDC1', 'WASF2', 'GPR3', 'CD164L2', 'FCN3', 'MAP3K6', 'SYTL1', 'TMEM222', 'WDTC1', 'TRNAE-UUC', 'SLC9A1']\n"
     ]
    }
   ],
   "source": [
    "df = pd.read_excel('Genes identificados con vecinos.xlsx',header= 1, sheet_name='C2',index_col=0, dtype={'Selec': 'str','Gen Abrev':'str'})\n",
    "df=df['Gen Abrev']\n",
    "print(len(df))\n",
    "C2= []\n",
    "for i in range(1,len(df)+1):\n",
    "    C2= C2 + [df[i]]\n",
    "print(C2)"
   ]
  },
  {
   "cell_type": "code",
   "execution_count": 3,
   "metadata": {},
   "outputs": [
    {
     "name": "stdout",
     "output_type": "stream",
     "text": [
      "['KCNH7', 'GCA', 'IFIH1', 'FAP', 'GCG', 'DPP4', 'SLC4A10', 'TBR1', 'PSMD14', 'TRNAL-CAA', 'TANK', 'NXPH2', 'SPOPL', 'HNMT', 'THSD7B', 'CXCR4', 'DARS', 'MCM6', 'LCT', 'UBXN4', 'R3HDM1', 'MIR128-1', 'ZRANB3', 'RAB3GAP1', 'MAP3K19', 'CCNT2', 'ACMSD', 'TMEM163', 'MGAT5', 'NCKAP5', 'LYPD1', 'GPR39', 'SLC35F5', 'ACTR3', 'DPP10', 'GLULP (GLUL)', 'CREB1', 'METTL21A', 'CCNYL1', 'FZD5', 'PLEKHM3', 'CRYGD', 'CRYGC', 'CRYGB', 'CRYGA', 'C2H2 or f80 (c2orf80)', 'IDH1', 'PIKFYVE', 'PTH2R', 'MAP2', 'MREG', 'TMEM169', 'PECR', 'XRCC5', 'MARCH4', 'SMARCAL1', 'RPL37A', 'IGFBP2', 'IGFBP5', 'TNP1', 'TNS1', 'MIR2356', 'RUFY4', 'CXCR2', 'CXCR1', 'ARPC2', 'GPBAR1', 'AAMP', 'PNKD', 'TMBIM1', 'CATIP', 'SLC11A1', 'CTDSP1', 'MIR26B', 'VIL1', 'USP37', 'CNOT9', 'PLCD4', 'ZNF142', 'BCS1L', 'RNF25', 'STK36', 'TTLL4', 'CYP27A1', 'PRKAG3', 'WNT6', 'WNT10A', 'CDK5R2', 'FEV', 'CRYBA2', 'MIR375', 'CFAP65', 'IHH', 'NHEJ1', 'SLC23A3', 'CNPPD1', 'RETREG2', 'ZFAND2B', 'ABCB6', 'ATG9A', 'ANKZF1', 'GLB1L', 'STK16', 'TUBA4A', 'TUBA1D', 'DNAJB2', 'PTPRN', 'MIR153-1', 'RESP18', 'DNPEP', 'DES', 'SPEG', 'GMPPA', 'ASIC4', 'CHPF', 'TMEM198', 'OBSL1', 'INHA', 'TNS2', 'MIR2357', 'PTPRU', 'MECR', 'SRSF4', 'TMEM200B', 'EPB41', 'OPRD1', 'YTHDF2', 'GMEB1', 'TAF12', 'RAB42', 'SNHG12', 'TRNAU1AP', 'RCC1', 'SNHG3', 'PHACTR4', 'MED18', 'SESN2', 'ATP5IF1', 'DNAJC8', 'PTAFR', 'EYA3', 'XKR8', 'SMPDL3B', 'RPA2', 'THEMIS2', 'PPP1R8', 'STX12', 'FAM76A', 'IFI6', 'FGR', 'AHDC1', 'WASF2', 'GPR3', 'CD164L2', 'FCN3', 'MAP3K6', 'SYTL1', 'TMEM222', 'WDTC1', 'TRNAE-UUC', 'SLC9A1']\n"
     ]
    }
   ],
   "source": [
    "#### LIMPIEZA DE DATOS\n",
    "\n",
    "#1) PRIMERA LIMPIEZA: ELIMINAR LOS GENES QUE SE REPITEN \n",
    "data = {'Gen abrev': C2}\n",
    "df = pd.DataFrame(data, columns = ['Gen abrev'])\n",
    "#h es una variable que contiene solo las observaciones únicas\n",
    "h=df[\"Gen abrev\"].unique()\n",
    "oficial_Gen = pd.DataFrame(h, columns = ['Gen abrev'])\n",
    "## Con vale count podemos observar que no se repiten los genes\n",
    "oficial_Gen[\"Gen abrev\"].value_counts()\n",
    "###\n",
    "LISTA_DE_GENES =[]\n",
    "for i in range(len(C2)):\n",
    "   LISTA_DE_GENES.append(oficial_Gen[\"Gen abrev\"][i])\n",
    "\n",
    "#print(LISTA_DE_GENES)\n",
    "#print(len(LISTA_DE_GENES))\n",
    "LISTA_DE_GENES.remove('TRNAC-GCA ')\n",
    "print(LISTA_DE_GENES)   \n"
   ]
  },
  {
   "cell_type": "code",
   "execution_count": 4,
   "metadata": {},
   "outputs": [
    {
     "name": "stdout",
     "output_type": "stream",
     "text": [
      "['KCNH7', 'GCA', 'IFIH1', 'FAP', 'GCG', 'DPP4', 'SLC4A10', 'TBR1', 'PSMD14', 'TRNAL-CAA', 'TANK', 'NXPH2', 'SPOPL', 'HNMT', 'THSD7B', 'CXCR4', 'DARS', 'MCM6', 'LCT', 'UBXN4', 'R3HDM1', 'MIR128-1', 'ZRANB3', 'RAB3GAP1', 'MAP3K19', 'CCNT2', 'ACMSD', 'TMEM163', 'MGAT5', 'NCKAP5', 'LYPD1', 'GPR39', 'SLC35F5', 'ACTR3', 'DPP10', 'GLULP+%28GLUL%29', 'CREB1', 'METTL21A', 'CCNYL1', 'FZD5', 'PLEKHM3', 'CRYGD', 'CRYGC', 'CRYGB', 'CRYGA', 'C2H2+or+f80+%28c2orf80%29', 'IDH1', 'PIKFYVE', 'PTH2R', 'MAP2', 'MREG', 'TMEM169', 'PECR', 'XRCC5', 'MARCH4', 'SMARCAL1', 'RPL37A', 'IGFBP2', 'IGFBP5', 'TNP1', 'TNS1', 'MIR2356', 'RUFY4', 'CXCR2', 'CXCR1', 'ARPC2', 'GPBAR1', 'AAMP', 'PNKD', 'TMBIM1', 'CATIP', 'SLC11A1', 'CTDSP1', 'MIR26B', 'VIL1', 'USP37', 'CNOT9', 'PLCD4', 'ZNF142', 'BCS1L', 'RNF25', 'STK36', 'TTLL4', 'CYP27A1', 'PRKAG3', 'WNT6', 'WNT10A', 'CDK5R2', 'FEV', 'CRYBA2', 'MIR375', 'CFAP65', 'IHH', 'NHEJ1', 'SLC23A3', 'CNPPD1', 'RETREG2', 'ZFAND2B', 'ABCB6', 'ATG9A', 'ANKZF1', 'GLB1L', 'STK16', 'TUBA4A', 'TUBA1D', 'DNAJB2', 'PTPRN', 'MIR153-1', 'RESP18', 'DNPEP', 'DES', 'SPEG', 'GMPPA', 'ASIC4', 'CHPF', 'TMEM198', 'OBSL1', 'INHA', 'TNS2', 'MIR2357', 'PTPRU', 'MECR', 'SRSF4', 'TMEM200B', 'EPB41', 'OPRD1', 'YTHDF2', 'GMEB1', 'TAF12', 'RAB42', 'SNHG12', 'TRNAU1AP', 'RCC1', 'SNHG3', 'PHACTR4', 'MED18', 'SESN2', 'ATP5IF1', 'DNAJC8', 'PTAFR', 'EYA3', 'XKR8', 'SMPDL3B', 'RPA2', 'THEMIS2', 'PPP1R8', 'STX12', 'FAM76A', 'IFI6', 'FGR', 'AHDC1', 'WASF2', 'GPR3', 'CD164L2', 'FCN3', 'MAP3K6', 'SYTL1', 'TMEM222', 'WDTC1', 'TRNAE-UUC', 'SLC9A1']\n"
     ]
    }
   ],
   "source": [
    "#para crear los links correspondientess de busqueda tenemos que hacer una modificaciones\n",
    "lista=[]\n",
    "for genes in LISTA_DE_GENES:\n",
    "    lista.append(genes.replace(\" \", \"+\"))\n",
    "#print(lista)\n",
    "\n",
    "lista1=[]\n",
    "for genes in lista:\n",
    "    lista1.append(genes.replace(\"(\",\"%28\"))\n",
    "#print(lista1)\n",
    "\n",
    "query=[]\n",
    "for genes in lista1:\n",
    "    query.append(genes.replace(\")\",\"%29\"))\n",
    "print(query)    \n",
    "    "
   ]
  },
  {
   "cell_type": "code",
   "execution_count": 5,
   "metadata": {},
   "outputs": [
    {
     "name": "stdout",
     "output_type": "stream",
     "text": [
      "['https://www.uniprot.org/uniprot/?query=KCNH7+Bos+taurus&sort=score', 'https://www.uniprot.org/uniprot/?query=GCA+Bos+taurus&sort=score', 'https://www.uniprot.org/uniprot/?query=IFIH1+Bos+taurus&sort=score', 'https://www.uniprot.org/uniprot/?query=FAP+Bos+taurus&sort=score', 'https://www.uniprot.org/uniprot/?query=GCG+Bos+taurus&sort=score', 'https://www.uniprot.org/uniprot/?query=DPP4+Bos+taurus&sort=score', 'https://www.uniprot.org/uniprot/?query=SLC4A10+Bos+taurus&sort=score', 'https://www.uniprot.org/uniprot/?query=TBR1+Bos+taurus&sort=score', 'https://www.uniprot.org/uniprot/?query=PSMD14+Bos+taurus&sort=score', 'https://www.uniprot.org/uniprot/?query=TRNAL-CAA+Bos+taurus&sort=score']\n"
     ]
    }
   ],
   "source": [
    "links=[]\n",
    "\n",
    "for i in query[:10]:\n",
    "    links.append(\"https://www.uniprot.org/uniprot/?query=\"+ str(i) + \"+Bos+taurus&sort=score\")\n",
    "print(links)"
   ]
  },
  {
   "cell_type": "code",
   "execution_count": 6,
   "metadata": {},
   "outputs": [
    {
     "name": "stdout",
     "output_type": "stream",
     "text": [
      "['F1N4A4', 'Q3MHX3', 'E1BJZ0', 'A5D7B7', 'P01272', 'P81425', 'Q32LP4', 'E1BK81', 'A1L5A6', 'Na']\n"
     ]
    }
   ],
   "source": [
    "#######################\n",
    "# COLUMNA ENTRY (2)\n",
    "#######################\n",
    "\n",
    "\n",
    "import urllib.request, urllib.parse, urllib.error #(solicitud,analizar,error)\n",
    "import re\n",
    "import ssl  \n",
    "ctx = ssl.create_default_context()                    #crear un contexto predeterminado\n",
    "ctx.check_hostname = False                            #comprobar el nombre de host\n",
    "ctx.verify_mode = ssl.CERT_NONE                       #modo de verificación\n",
    "\n",
    "LISTA_ENTRY = []\n",
    "\n",
    "for codigo in links:\n",
    "    url = codigo\n",
    "    html = urllib.request.urlopen(url, context=ctx).read()  \n",
    "    link = re.findall(b'<a href=\".uniprot.([a-zA-Z].*?)\"', html) \n",
    "    if len(link)==0:\n",
    "        LISTA_ENTRY.append(\"Na\")\n",
    "    else:\n",
    "        objeto=link[0].decode()\n",
    "        LISTA_ENTRY = LISTA_ENTRY +[objeto] \n",
    "print(LISTA_ENTRY)   \n"
   ]
  },
  {
   "cell_type": "code",
   "execution_count": 7,
   "metadata": {},
   "outputs": [
    {
     "name": "stdout",
     "output_type": "stream",
     "text": [
      "['F1N4A4_BOVIN', 'RBM4_BOVIN', 'E1BJZ0_BOVIN', 'SEPR_BOVIN', 'GLUC_BOVIN', 'DPP4_BOVIN', 'S4A10_BOVIN', 'E1BK81_BOVIN', 'ADRM1_BOVIN', 'Na']\n"
     ]
    },
    {
     "data": {
      "text/plain": [
       "10"
      ]
     },
     "execution_count": 7,
     "metadata": {},
     "output_type": "execute_result"
    }
   ],
   "source": [
    "############################\n",
    "# COLUMNA ENTRY NAME (3)\n",
    "############################\n",
    "\n",
    "lista2 = []\n",
    "\n",
    "for codigo in links:\n",
    "    url = codigo\n",
    "    html = urllib.request.urlopen(url, context=ctx).read()  \n",
    "    link = re.findall(b'<td>([A-Z].*?)<.td>', html) \n",
    "    if len(link)==0:\n",
    "        lista2.append('Na')\n",
    "    else:\n",
    "        objeto=link[0].decode()\n",
    "        lista2=lista2 +[objeto] \n",
    "print(lista2)    \n",
    "len(lista2)"
   ]
  },
  {
   "cell_type": "code",
   "execution_count": 8,
   "metadata": {},
   "outputs": [
    {
     "data": {
      "text/plain": [
       "10"
      ]
     },
     "execution_count": 8,
     "metadata": {},
     "output_type": "execute_result"
    }
   ],
   "source": [
    "###########################################\n",
    "# COLUMNA PROTEIN  (4)\n",
    "###########################################\n",
    "\n",
    "urls=[]\n",
    "\n",
    "for i in LISTA_ENTRY:\n",
    "    if i==\"Na\":\n",
    "        urls.append(0)\n",
    "    else:\n",
    "        urls.append(\"https://www.uniprot.org/uniprot/\"+str(i))\n",
    "#print(urls)\n",
    "\n",
    "PROTEINA=[]\n",
    "\n",
    "for i in urls:\n",
    "    if i==0:\n",
    "        PROTEINA.append(\"Na\")\n",
    "#print(PROTEINA)\n",
    "    else:        \n",
    "        url = i\n",
    "        html = urllib.request.urlopen(url, context=ctx).read()  \n",
    "        links = re.findall(b'<h1 property=\"name\">([\\[*a-zA-Z0-9].*?)<', html) \n",
    "        for link in links:\n",
    "            nuevo=link.decode()\n",
    "            PROTEINA = PROTEINA+[nuevo]\n",
    "            \n",
    "#print(PROTEINA)\n",
    "len(PROTEINA)"
   ]
  },
  {
   "cell_type": "code",
   "execution_count": 9,
   "metadata": {},
   "outputs": [
    {
     "data": {
      "text/plain": [
       "10"
      ]
     },
     "execution_count": 9,
     "metadata": {},
     "output_type": "execute_result"
    }
   ],
   "source": [
    "########################################\n",
    "# COLUMNA5 GENES  (5)\n",
    "########################################\n",
    "\n",
    "GENES=[]\n",
    "\n",
    "for i in urls:\n",
    "    if i==0:\n",
    "        GENES.append(0)\n",
    "    else:        \n",
    "        url = i\n",
    "        html = urllib.request.urlopen(url, context=ctx).read()  \n",
    "        links = re.findall(b'<h2>([A-Z].*?)<', html) \n",
    "        for link in links:\n",
    "            nuevo=link.decode()\n",
    "            GENES=GENES+[nuevo]\n",
    "#print(GENES)\n",
    "len(GENES)"
   ]
  },
  {
   "cell_type": "code",
   "execution_count": 10,
   "metadata": {},
   "outputs": [
    {
     "data": {
      "text/plain": [
       "10"
      ]
     },
     "execution_count": 10,
     "metadata": {},
     "output_type": "execute_result"
    }
   ],
   "source": [
    "################################\n",
    "# COLUMNA ORGANISMO  (6)\n",
    "################################\n",
    "\n",
    "ORGANISMO=[]\n",
    "\n",
    "for i in urls:\n",
    "    if i==0:\n",
    "        ORGANISMO.append(0)\n",
    "    else:        \n",
    "        url = i\n",
    "        html = urllib.request.urlopen(url, context=ctx).read()  \n",
    "        links = re.findall(b'<em>([A-Z].*?)</em>', html) \n",
    "        for link in links:\n",
    "            nuevo=link.decode()\n",
    "            ORGANISMO=ORGANISMO+[nuevo]\n",
    "#print(ORGANISMO)\n",
    "len(ORGANISMO)"
   ]
  },
  {
   "cell_type": "code",
   "execution_count": 11,
   "metadata": {},
   "outputs": [
    {
     "data": {
      "text/plain": [
       "10"
      ]
     },
     "execution_count": 11,
     "metadata": {},
     "output_type": "execute_result"
    }
   ],
   "source": [
    "################################\n",
    "# COLUMNA STATUS  (7)\n",
    "################################\n",
    "\n",
    "STATUS=[]\n",
    "\n",
    "for i in urls:\n",
    "    if i==0:\n",
    "        STATUS.append(0)\n",
    "    else:        \n",
    "        url = i\n",
    "        html = urllib.request.urlopen(url, context=ctx).read()  \n",
    "        links = re.findall(b'<span>([UR].*viewed)', html) \n",
    "        for link in links:\n",
    "            nuevo=link.decode()\n",
    "            STATUS=STATUS+[nuevo]\n",
    "#print(STATUS)\n",
    "\n",
    "len(STATUS)"
   ]
  },
  {
   "cell_type": "code",
   "execution_count": 13,
   "metadata": {},
   "outputs": [
    {
     "name": "stdout",
     "output_type": "stream",
     "text": [
      "['potassium ion transmembrane transport.regulation of membrane potential.', 'cap-independent translational initiation.cell differentiation.circadian regulation of translation.entrainment of circadian clock by photoperiod.IRES-dependent translational initiation of linear mRNA.miRNA mediated inhibition of translation.mRNA splicing, via spliceosome.negative regulation of translation.negative regulation of translational initiation.negative regulation of translation in response to stress.positive regulation of muscle cell differentiation.regulation of alternative mRNA splicing, via spliceosome.regulation of nucleocytoplasmic transport.response to arsenic-containing substance.', 'cellular response to exogenous dsRNA.innate immune response.MDA-5 signaling pathway.positive regulation of interferon-alpha production.positive regulation of interferon-beta production.positive regulation of interleukin-6 production.positive regulation of response to cytokine stimulus.positive regulation of tumor necrosis factor production.protein sumoylation.response to virus.']\n"
     ]
    }
   ],
   "source": [
    "################################\n",
    "# COLUMNA GO - Biological process  (8)\n",
    "################################\n",
    "\n",
    "GO_Biological_process = []\n",
    "\n",
    "for i in urls[0:5]:\n",
    "    if i==0:\n",
    "        GO_Biological_process.append(\"Na\")\n",
    "    else:\n",
    "        uclient=urlopen(i)\n",
    "        pagehtml=uclient.read()\n",
    "        uclient.close()                                    \n",
    "        pagesoup=soup(pagehtml, \"html.parser\")\n",
    "        page=pagesoup.find(\"ul\",{\"class\":\"noNumbering biological_process\"}) \n",
    "        location=page.find_all(\"a\",{\"onclick\":\"window.ga('UniProt-Entry-View', 'click', 'Display-GO-Term');\"})\n",
    "        #print(location)\n",
    "        cadena = \"\"\n",
    "        for i in range(0,len(location)):\n",
    "            if location[i].text==\"\":\n",
    "                cadena = cadena + \"-\"\n",
    "            else:\n",
    "                #GO_Biological_process.append(location[i].text)\n",
    "                cadena = cadena + location[i].text + \".\"\n",
    "            #print(type(location[i].text))\n",
    "            \n",
    "        GO_Biological_process.append(cadena)\n",
    "\n",
    "print(GO_Biological_process)"
   ]
  },
  {
   "cell_type": "code",
   "execution_count": 109,
   "metadata": {},
   "outputs": [
    {
     "name": "stdout",
     "output_type": "stream",
     "text": [
      "['Na', 'Activator,RNA-binding,', 'Helicase,Hydrolase,RNA-binding,', 'Hydrolase,Protease,Serine protease,', 'Hormone,', 'Aminopeptidase,Hydrolase,Protease,Receptor,Serine protease,', 'Na', 'DNA-binding,', 'Na', 'Na']\n"
     ]
    }
   ],
   "source": [
    "########### COLUMNA molecular function (9) ##############\n",
    "\n",
    "col_molecular_f=[]\n",
    "\n",
    "for link in urls[:10]:\n",
    "    if link !=0:\n",
    "        uclient=urlopen(link)\n",
    "        pagehtml=uclient.read()\n",
    "        uclient.close()\n",
    "        pagesoup=soup(pagehtml, \"html.parser\")\n",
    "\n",
    "\n",
    "        if pagesoup.find(\"div\",{\"id\":\"function\"}):\n",
    "            section=pagesoup.find(\"div\",{\"id\":\"function\"})\n",
    "            if section.find(\"table\",{\"class\":\"databaseTable\"}): \n",
    "                tabla=section.find(\"table\",{\"class\":\"databaseTable\"})\n",
    "                span=tabla.find(\"tbody\")\n",
    "                td=tabla.find_all(\"td\")\n",
    "                for i in range(len(td)):\n",
    "                    if td[i].text == \"Molecular function\":\n",
    "                        span=td[i+1].find_all(\"span\",recursive=False)\n",
    "                        span_0=span[0].find_all(\"a\",recursive=False)\n",
    "                        string=\"\"\n",
    "                        for spancito in span_0:\n",
    "                            string= string  + spancito.text + \",\"\n",
    "\n",
    "                        col_molecular_f.append(string)    \n",
    "\n",
    "\n",
    "                        break\n",
    "                    else:\n",
    "                        if i ==len(td)-1:\n",
    "                            col_molecular_f.append(\"Na\")\n",
    "                        \n",
    "                        else:\n",
    "                            continue\n",
    "            else :\n",
    "                col_molecular_f.append(\"Na\")\n",
    "        else:\n",
    "            col_molecular_f.append(\"Na\")\n",
    "    else:\n",
    "        col_molecular_f.append(\"Na\")\n",
    "        \n",
    "        \n",
    "print(col_molecular_f)\n",
    "\n"
   ]
  },
  {
   "cell_type": "code",
   "execution_count": 110,
   "metadata": {},
   "outputs": [
    {
     "data": {
      "text/plain": [
       "10"
      ]
     },
     "execution_count": 110,
     "metadata": {},
     "output_type": "execute_result"
    }
   ],
   "source": [
    "len(col_molecular_f)\n",
    "    "
   ]
  },
  {
   "cell_type": "code",
   "execution_count": 14,
   "metadata": {},
   "outputs": [
    {
     "name": "stdout",
     "output_type": "stream",
     "text": [
      "['Activator, RNA-binding']\n"
     ]
    }
   ],
   "source": [
    "########### COLUMNA biological process (10) ##############\n",
    "### YA NO FUNCIONA###\n",
    "\n",
    "col_biological_p=[]\n",
    "for link in urls[0:2]:\n",
    "    \n",
    "    uclient=urlopen(link)\n",
    "    pagehtml=uclient.read()\n",
    "    uclient.close()\n",
    "    pagesoup=soup(pagehtml, \"html.parser\")\n",
    "    \n",
    "\n",
    "\n",
    "\n",
    " \n",
    "    section=pagesoup.find(\"div\",{\"id\":\"function\"})\n",
    "    if section.find(\"table\",{\"class\":\"databaseTable\"}): \n",
    "        tabla=section.find(\"table\",{\"class\":\"databaseTable\"})\n",
    "        \n",
    "        tr=tabla.find_all(\"tr\")\n",
    "        if len(tr)>1:\n",
    "            span=tr[1].find_all(\"span\")\n",
    "            span_0=span[0].find_all(\"a\",recursive=False)\n",
    "            cadenita=\"\"\n",
    "            for i in range(0,len(span_0)):\n",
    "                cadenita=  cadenita + span_0[i].text +\",\"\n",
    "            \n",
    "            col_biological_p.append(cadenita)\n",
    "        else:\n",
    "            col_biological_p.append(\"Na\")\n",
    "    else:\n",
    "        col_biological_p.append(\"Na\")\n",
    "        \n",
    "# print(col_molecular_f)\n",
    "# print(col_molecular_f)\n",
    "# print(len(span_0))\n",
    "print(col_biological_p)\n"
   ]
  },
  {
   "cell_type": "code",
   "execution_count": 107,
   "metadata": {},
   "outputs": [
    {
     "name": "stdout",
     "output_type": "stream",
     "text": [
      "['Na', 'Differentiation,mRNA processing,mRNA splicing,RNA-mediated gene silencing,', 'Antiviral defense,Immunity,Innate immunity,', 'Angiogenesis,Apoptosis,Cell adhesion,', 'Na', 'Cell adhesion,', 'Antiport,Ion transport,Sodium transport,Symport,Transport,', 'Transcription,Transcription regulation,', 'Na', 'Na']\n"
     ]
    }
   ],
   "source": [
    "########### COLUMNA biological process (10)* ##############\n",
    "\n",
    "col_biological_p1=[]\n",
    "\n",
    "for link in urls[:10]:\n",
    "    if link !=0:\n",
    "        uclient=urlopen(link)\n",
    "        pagehtml=uclient.read()\n",
    "        uclient.close()\n",
    "        pagesoup=soup(pagehtml, \"html.parser\")\n",
    "\n",
    "\n",
    "        if pagesoup.find(\"div\",{\"id\":\"function\"}):\n",
    "            section=pagesoup.find(\"div\",{\"id\":\"function\"})\n",
    "            if section.find(\"table\",{\"class\":\"databaseTable\"}): \n",
    "                tabla=section.find(\"table\",{\"class\":\"databaseTable\"})\n",
    "                td=tabla.find_all(\"td\")\n",
    "                for i in range(len(td)):\n",
    "                    if td[i].text == \"Biological process\":\n",
    "                        span=td[i+1].find_all(\"span\",recursive=False)\n",
    "                        span_0=span[0].find_all(\"a\",recursive=False)\n",
    "                        string=\"\"\n",
    "                        for spancito in span_0:\n",
    "                            string= string  + spancito.text + \",\"\n",
    "\n",
    "                        col_biological_p1.append(string)    \n",
    "\n",
    "\n",
    "                        break\n",
    "                    else:\n",
    "                        if i ==len(td)-1:\n",
    "                            col_biological_p1.append(\"Na\")\n",
    "                            \n",
    "                        else:\n",
    "                            continue\n",
    "                            \n",
    "                            \n",
    "            else :\n",
    "                col_biological_p1.append(\"Na\")\n",
    "        else:\n",
    "            col_biological_p1.append(\"Na\")\n",
    "    else:\n",
    "        col_biological_p1.append(\"Na\")\n",
    "        \n",
    "print(col_biological_p1)\n"
   ]
  },
  {
   "cell_type": "code",
   "execution_count": 108,
   "metadata": {},
   "outputs": [
    {
     "data": {
      "text/plain": [
       "10"
      ]
     },
     "execution_count": 108,
     "metadata": {},
     "output_type": "execute_result"
    }
   ],
   "source": [
    "len(col_biological_p1)"
   ]
  },
  {
   "cell_type": "code",
   "execution_count": 19,
   "metadata": {},
   "outputs": [],
   "source": [
    "import pandas as pd\n",
    "##Guardando un archivo de formato data frame\n",
    "#Creamos un diccionario data\n",
    "data = {'Gen abrev': LISTA_DE_GENES,\n",
    "        'Entry': LISTA_ENTRY}\n",
    "# Luego creamos un dataframe y especificamos las columnas.\n",
    "df = pd.DataFrame(data, columns = ['Gen abrev','Entry'])\n",
    "# El nombre del archivo será \"headers.csv\"\n",
    "#df.to_excel('Reporte.xlsx')\n"
   ]
  },
  {
   "cell_type": "code",
   "execution_count": 25,
   "metadata": {},
   "outputs": [],
   "source": [
    "### creación del excel\n",
    "from pandas import ExcelWriter\n",
    "writer = ExcelWriter('./C2.xlsx')\n",
    "df.to_excel(writer, 'C2', index=False)\n",
    "writer.save()"
   ]
  },
  {
   "cell_type": "code",
   "execution_count": 26,
   "metadata": {},
   "outputs": [],
   "source": [
    "import openpyxl\n",
    "import pandas as pd"
   ]
  },
  {
   "cell_type": "code",
   "execution_count": 51,
   "metadata": {},
   "outputs": [
    {
     "data": {
      "text/plain": [
       "pandas.core.frame.DataFrame"
      ]
     },
     "execution_count": 51,
     "metadata": {},
     "output_type": "execute_result"
    }
   ],
   "source": [
    "##### ipiynb aparte\n",
    "C1 = \"Prueba1.xlsx\"\n",
    "C2=  \"C2.xlsx\"\n",
    "\n",
    "df1 = pd.read_excel(C1)\n",
    "df2 = pd.read_excel(C2)\n",
    "\n",
    "#print(df2)\n",
    "values1 = df1[['Gen abrev', 'Entry']]\n",
    "values2= df2[['Gen abrev', 'Entry']]\n",
    "\n",
    "type(values1)\n",
    "join = pd.concat(dataframes)\n",
    "\n",
    "#join.to_excel('Prueba.xlsx', 'Prueba', index=False)"
   ]
  },
  {
   "cell_type": "code",
   "execution_count": 47,
   "metadata": {},
   "outputs": [
    {
     "name": "stderr",
     "output_type": "stream",
     "text": [
      "C:\\Users\\MyN\\anaconda3\\lib\\site-packages\\xlsxwriter\\workbook.py:329: UserWarning: Calling close() on already closed file.\n",
      "  warn(\"Calling close() on already closed file.\")\n"
     ]
    }
   ],
   "source": []
  },
  {
   "cell_type": "code",
   "execution_count": 48,
   "metadata": {},
   "outputs": [
    {
     "data": {
      "text/plain": [
       "pandas.core.frame.DataFrame"
      ]
     },
     "execution_count": 48,
     "metadata": {},
     "output_type": "execute_result"
    }
   ],
   "source": []
  },
  {
   "cell_type": "code",
   "execution_count": 23,
   "metadata": {},
   "outputs": [],
   "source": [
    "import pandas as pd\n",
    "from seaborn import load_dataset\n",
    "C1 = \"Prueba1.xlsx\"\n",
    "C2=  \"C2.xlsx\"\n",
    "\n",
    "df1 = pd.read_excel(C1)\n",
    "df2 = pd.read_excel(C2)\n",
    "\n",
    "#print(df2)\n",
    "values1 = df1[['Gen abrev', 'Entry']]\n",
    "values2= df2[['Gen abrev', 'Entry']]\n",
    "\n",
    "writer = pd.ExcelWriter('archivo1.xlsx')\n",
    "values1.to_excel(writer, sheet_name=\"C1\", index=False)\n",
    "values2.to_excel(writer, sheet_name=\"C2\", index=False)\n",
    "writer.save()\n",
    "writer.close()"
   ]
  },
  {
   "cell_type": "code",
   "execution_count": 22,
   "metadata": {},
   "outputs": [
    {
     "data": {
      "text/plain": [
       "pandas.core.frame.DataFrame"
      ]
     },
     "execution_count": 22,
     "metadata": {},
     "output_type": "execute_result"
    }
   ],
   "source": [
    "type(values1)"
   ]
  },
  {
   "cell_type": "code",
   "execution_count": null,
   "metadata": {},
   "outputs": [],
   "source": []
  }
 ],
 "metadata": {
  "kernelspec": {
   "display_name": "Python 3",
   "language": "python",
   "name": "python3"
  },
  "language_info": {
   "codemirror_mode": {
    "name": "ipython",
    "version": 3
   },
   "file_extension": ".py",
   "mimetype": "text/x-python",
   "name": "python",
   "nbconvert_exporter": "python",
   "pygments_lexer": "ipython3",
   "version": "3.8.5"
  }
 },
 "nbformat": 4,
 "nbformat_minor": 4
}
