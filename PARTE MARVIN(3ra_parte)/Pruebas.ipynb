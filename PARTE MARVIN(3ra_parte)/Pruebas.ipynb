{
 "cells": [
  {
   "cell_type": "code",
   "execution_count": 113,
   "metadata": {},
   "outputs": [],
   "source": [
    "from bs4 import BeautifulSoup as soup\n",
    "import requests\n",
    "import urllib.request   \n",
    "import pandas as pd\n",
    "\n",
    "from urllib.request import urlopen\n",
    "from bs4 import BeautifulSoup as soup\n",
    "\n"
   ]
  },
  {
   "cell_type": "code",
   "execution_count": 116,
   "metadata": {},
   "outputs": [
    {
     "ename": "PermissionError",
     "evalue": "[Errno 13] Permission denied: 'Gen_abrev.xlsx'",
     "output_type": "error",
     "traceback": [
      "\u001b[1;31m---------------------------------------------------------------------------\u001b[0m",
      "\u001b[1;31mPermissionError\u001b[0m                           Traceback (most recent call last)",
      "\u001b[1;32m<ipython-input-116-51f2dc6b7c39>\u001b[0m in \u001b[0;36m<module>\u001b[1;34m\u001b[0m\n\u001b[1;32m----> 1\u001b[1;33m \u001b[0mdf\u001b[0m \u001b[1;33m=\u001b[0m \u001b[0mpd\u001b[0m\u001b[1;33m.\u001b[0m\u001b[0mread_excel\u001b[0m\u001b[1;33m(\u001b[0m\u001b[1;34m'Gen_abrev.xlsx'\u001b[0m\u001b[1;33m,\u001b[0m\u001b[0mheader\u001b[0m\u001b[1;33m=\u001b[0m \u001b[1;36m1\u001b[0m\u001b[1;33m,\u001b[0m \u001b[0msheet_name\u001b[0m\u001b[1;33m=\u001b[0m\u001b[1;34m'C1'\u001b[0m\u001b[1;33m,\u001b[0m\u001b[0mindex_col\u001b[0m\u001b[1;33m=\u001b[0m\u001b[1;36m0\u001b[0m\u001b[1;33m,\u001b[0m \u001b[0mdtype\u001b[0m\u001b[1;33m=\u001b[0m\u001b[1;33m{\u001b[0m\u001b[1;34m'Selec'\u001b[0m\u001b[1;33m:\u001b[0m \u001b[1;34m'str'\u001b[0m\u001b[1;33m,\u001b[0m\u001b[1;34m'Gen Abrev'\u001b[0m\u001b[1;33m:\u001b[0m\u001b[1;34m'str'\u001b[0m\u001b[1;33m}\u001b[0m\u001b[1;33m)\u001b[0m\u001b[1;33m\u001b[0m\u001b[1;33m\u001b[0m\u001b[0m\n\u001b[0m\u001b[0;32m      2\u001b[0m \u001b[0mdf\u001b[0m\u001b[1;33m=\u001b[0m\u001b[0mdf\u001b[0m\u001b[1;33m[\u001b[0m\u001b[1;34m'Gen Abrev'\u001b[0m\u001b[1;33m]\u001b[0m\u001b[1;33m\u001b[0m\u001b[1;33m\u001b[0m\u001b[0m\n",
      "\u001b[1;32mC:\\ProgramData\\Anaconda3\\lib\\site-packages\\pandas\\util\\_decorators.py\u001b[0m in \u001b[0;36mwrapper\u001b[1;34m(*args, **kwargs)\u001b[0m\n\u001b[0;32m    294\u001b[0m                 )\n\u001b[0;32m    295\u001b[0m                 \u001b[0mwarnings\u001b[0m\u001b[1;33m.\u001b[0m\u001b[0mwarn\u001b[0m\u001b[1;33m(\u001b[0m\u001b[0mmsg\u001b[0m\u001b[1;33m,\u001b[0m \u001b[0mFutureWarning\u001b[0m\u001b[1;33m,\u001b[0m \u001b[0mstacklevel\u001b[0m\u001b[1;33m=\u001b[0m\u001b[0mstacklevel\u001b[0m\u001b[1;33m)\u001b[0m\u001b[1;33m\u001b[0m\u001b[1;33m\u001b[0m\u001b[0m\n\u001b[1;32m--> 296\u001b[1;33m             \u001b[1;32mreturn\u001b[0m \u001b[0mfunc\u001b[0m\u001b[1;33m(\u001b[0m\u001b[1;33m*\u001b[0m\u001b[0margs\u001b[0m\u001b[1;33m,\u001b[0m \u001b[1;33m**\u001b[0m\u001b[0mkwargs\u001b[0m\u001b[1;33m)\u001b[0m\u001b[1;33m\u001b[0m\u001b[1;33m\u001b[0m\u001b[0m\n\u001b[0m\u001b[0;32m    297\u001b[0m \u001b[1;33m\u001b[0m\u001b[0m\n\u001b[0;32m    298\u001b[0m         \u001b[1;32mreturn\u001b[0m \u001b[0mwrapper\u001b[0m\u001b[1;33m\u001b[0m\u001b[1;33m\u001b[0m\u001b[0m\n",
      "\u001b[1;32mC:\\ProgramData\\Anaconda3\\lib\\site-packages\\pandas\\io\\excel\\_base.py\u001b[0m in \u001b[0;36mread_excel\u001b[1;34m(io, sheet_name, header, names, index_col, usecols, squeeze, dtype, engine, converters, true_values, false_values, skiprows, nrows, na_values, keep_default_na, na_filter, verbose, parse_dates, date_parser, thousands, comment, skipfooter, convert_float, mangle_dupe_cols)\u001b[0m\n\u001b[0;32m    302\u001b[0m \u001b[1;33m\u001b[0m\u001b[0m\n\u001b[0;32m    303\u001b[0m     \u001b[1;32mif\u001b[0m \u001b[1;32mnot\u001b[0m \u001b[0misinstance\u001b[0m\u001b[1;33m(\u001b[0m\u001b[0mio\u001b[0m\u001b[1;33m,\u001b[0m \u001b[0mExcelFile\u001b[0m\u001b[1;33m)\u001b[0m\u001b[1;33m:\u001b[0m\u001b[1;33m\u001b[0m\u001b[1;33m\u001b[0m\u001b[0m\n\u001b[1;32m--> 304\u001b[1;33m         \u001b[0mio\u001b[0m \u001b[1;33m=\u001b[0m \u001b[0mExcelFile\u001b[0m\u001b[1;33m(\u001b[0m\u001b[0mio\u001b[0m\u001b[1;33m,\u001b[0m \u001b[0mengine\u001b[0m\u001b[1;33m=\u001b[0m\u001b[0mengine\u001b[0m\u001b[1;33m)\u001b[0m\u001b[1;33m\u001b[0m\u001b[1;33m\u001b[0m\u001b[0m\n\u001b[0m\u001b[0;32m    305\u001b[0m     \u001b[1;32melif\u001b[0m \u001b[0mengine\u001b[0m \u001b[1;32mand\u001b[0m \u001b[0mengine\u001b[0m \u001b[1;33m!=\u001b[0m \u001b[0mio\u001b[0m\u001b[1;33m.\u001b[0m\u001b[0mengine\u001b[0m\u001b[1;33m:\u001b[0m\u001b[1;33m\u001b[0m\u001b[1;33m\u001b[0m\u001b[0m\n\u001b[0;32m    306\u001b[0m         raise ValueError(\n",
      "\u001b[1;32mC:\\ProgramData\\Anaconda3\\lib\\site-packages\\pandas\\io\\excel\\_base.py\u001b[0m in \u001b[0;36m__init__\u001b[1;34m(self, path_or_buffer, engine)\u001b[0m\n\u001b[0;32m    865\u001b[0m         \u001b[0mself\u001b[0m\u001b[1;33m.\u001b[0m\u001b[0m_io\u001b[0m \u001b[1;33m=\u001b[0m \u001b[0mstringify_path\u001b[0m\u001b[1;33m(\u001b[0m\u001b[0mpath_or_buffer\u001b[0m\u001b[1;33m)\u001b[0m\u001b[1;33m\u001b[0m\u001b[1;33m\u001b[0m\u001b[0m\n\u001b[0;32m    866\u001b[0m \u001b[1;33m\u001b[0m\u001b[0m\n\u001b[1;32m--> 867\u001b[1;33m         \u001b[0mself\u001b[0m\u001b[1;33m.\u001b[0m\u001b[0m_reader\u001b[0m \u001b[1;33m=\u001b[0m \u001b[0mself\u001b[0m\u001b[1;33m.\u001b[0m\u001b[0m_engines\u001b[0m\u001b[1;33m[\u001b[0m\u001b[0mengine\u001b[0m\u001b[1;33m]\u001b[0m\u001b[1;33m(\u001b[0m\u001b[0mself\u001b[0m\u001b[1;33m.\u001b[0m\u001b[0m_io\u001b[0m\u001b[1;33m)\u001b[0m\u001b[1;33m\u001b[0m\u001b[1;33m\u001b[0m\u001b[0m\n\u001b[0m\u001b[0;32m    868\u001b[0m \u001b[1;33m\u001b[0m\u001b[0m\n\u001b[0;32m    869\u001b[0m     \u001b[1;32mdef\u001b[0m \u001b[0m__fspath__\u001b[0m\u001b[1;33m(\u001b[0m\u001b[0mself\u001b[0m\u001b[1;33m)\u001b[0m\u001b[1;33m:\u001b[0m\u001b[1;33m\u001b[0m\u001b[1;33m\u001b[0m\u001b[0m\n",
      "\u001b[1;32mC:\\ProgramData\\Anaconda3\\lib\\site-packages\\pandas\\io\\excel\\_xlrd.py\u001b[0m in \u001b[0;36m__init__\u001b[1;34m(self, filepath_or_buffer)\u001b[0m\n\u001b[0;32m     20\u001b[0m         \u001b[0merr_msg\u001b[0m \u001b[1;33m=\u001b[0m \u001b[1;34m\"Install xlrd >= 1.0.0 for Excel support\"\u001b[0m\u001b[1;33m\u001b[0m\u001b[1;33m\u001b[0m\u001b[0m\n\u001b[0;32m     21\u001b[0m         \u001b[0mimport_optional_dependency\u001b[0m\u001b[1;33m(\u001b[0m\u001b[1;34m\"xlrd\"\u001b[0m\u001b[1;33m,\u001b[0m \u001b[0mextra\u001b[0m\u001b[1;33m=\u001b[0m\u001b[0merr_msg\u001b[0m\u001b[1;33m)\u001b[0m\u001b[1;33m\u001b[0m\u001b[1;33m\u001b[0m\u001b[0m\n\u001b[1;32m---> 22\u001b[1;33m         \u001b[0msuper\u001b[0m\u001b[1;33m(\u001b[0m\u001b[1;33m)\u001b[0m\u001b[1;33m.\u001b[0m\u001b[0m__init__\u001b[0m\u001b[1;33m(\u001b[0m\u001b[0mfilepath_or_buffer\u001b[0m\u001b[1;33m)\u001b[0m\u001b[1;33m\u001b[0m\u001b[1;33m\u001b[0m\u001b[0m\n\u001b[0m\u001b[0;32m     23\u001b[0m \u001b[1;33m\u001b[0m\u001b[0m\n\u001b[0;32m     24\u001b[0m     \u001b[1;33m@\u001b[0m\u001b[0mproperty\u001b[0m\u001b[1;33m\u001b[0m\u001b[1;33m\u001b[0m\u001b[0m\n",
      "\u001b[1;32mC:\\ProgramData\\Anaconda3\\lib\\site-packages\\pandas\\io\\excel\\_base.py\u001b[0m in \u001b[0;36m__init__\u001b[1;34m(self, filepath_or_buffer)\u001b[0m\n\u001b[0;32m    351\u001b[0m             \u001b[0mself\u001b[0m\u001b[1;33m.\u001b[0m\u001b[0mbook\u001b[0m \u001b[1;33m=\u001b[0m \u001b[0mself\u001b[0m\u001b[1;33m.\u001b[0m\u001b[0mload_workbook\u001b[0m\u001b[1;33m(\u001b[0m\u001b[0mfilepath_or_buffer\u001b[0m\u001b[1;33m)\u001b[0m\u001b[1;33m\u001b[0m\u001b[1;33m\u001b[0m\u001b[0m\n\u001b[0;32m    352\u001b[0m         \u001b[1;32melif\u001b[0m \u001b[0misinstance\u001b[0m\u001b[1;33m(\u001b[0m\u001b[0mfilepath_or_buffer\u001b[0m\u001b[1;33m,\u001b[0m \u001b[0mstr\u001b[0m\u001b[1;33m)\u001b[0m\u001b[1;33m:\u001b[0m\u001b[1;33m\u001b[0m\u001b[1;33m\u001b[0m\u001b[0m\n\u001b[1;32m--> 353\u001b[1;33m             \u001b[0mself\u001b[0m\u001b[1;33m.\u001b[0m\u001b[0mbook\u001b[0m \u001b[1;33m=\u001b[0m \u001b[0mself\u001b[0m\u001b[1;33m.\u001b[0m\u001b[0mload_workbook\u001b[0m\u001b[1;33m(\u001b[0m\u001b[0mfilepath_or_buffer\u001b[0m\u001b[1;33m)\u001b[0m\u001b[1;33m\u001b[0m\u001b[1;33m\u001b[0m\u001b[0m\n\u001b[0m\u001b[0;32m    354\u001b[0m         \u001b[1;32melif\u001b[0m \u001b[0misinstance\u001b[0m\u001b[1;33m(\u001b[0m\u001b[0mfilepath_or_buffer\u001b[0m\u001b[1;33m,\u001b[0m \u001b[0mbytes\u001b[0m\u001b[1;33m)\u001b[0m\u001b[1;33m:\u001b[0m\u001b[1;33m\u001b[0m\u001b[1;33m\u001b[0m\u001b[0m\n\u001b[0;32m    355\u001b[0m             \u001b[0mself\u001b[0m\u001b[1;33m.\u001b[0m\u001b[0mbook\u001b[0m \u001b[1;33m=\u001b[0m \u001b[0mself\u001b[0m\u001b[1;33m.\u001b[0m\u001b[0mload_workbook\u001b[0m\u001b[1;33m(\u001b[0m\u001b[0mBytesIO\u001b[0m\u001b[1;33m(\u001b[0m\u001b[0mfilepath_or_buffer\u001b[0m\u001b[1;33m)\u001b[0m\u001b[1;33m)\u001b[0m\u001b[1;33m\u001b[0m\u001b[1;33m\u001b[0m\u001b[0m\n",
      "\u001b[1;32mC:\\ProgramData\\Anaconda3\\lib\\site-packages\\pandas\\io\\excel\\_xlrd.py\u001b[0m in \u001b[0;36mload_workbook\u001b[1;34m(self, filepath_or_buffer)\u001b[0m\n\u001b[0;32m     35\u001b[0m             \u001b[1;32mreturn\u001b[0m \u001b[0mopen_workbook\u001b[0m\u001b[1;33m(\u001b[0m\u001b[0mfile_contents\u001b[0m\u001b[1;33m=\u001b[0m\u001b[0mdata\u001b[0m\u001b[1;33m)\u001b[0m\u001b[1;33m\u001b[0m\u001b[1;33m\u001b[0m\u001b[0m\n\u001b[0;32m     36\u001b[0m         \u001b[1;32melse\u001b[0m\u001b[1;33m:\u001b[0m\u001b[1;33m\u001b[0m\u001b[1;33m\u001b[0m\u001b[0m\n\u001b[1;32m---> 37\u001b[1;33m             \u001b[1;32mreturn\u001b[0m \u001b[0mopen_workbook\u001b[0m\u001b[1;33m(\u001b[0m\u001b[0mfilepath_or_buffer\u001b[0m\u001b[1;33m)\u001b[0m\u001b[1;33m\u001b[0m\u001b[1;33m\u001b[0m\u001b[0m\n\u001b[0m\u001b[0;32m     38\u001b[0m \u001b[1;33m\u001b[0m\u001b[0m\n\u001b[0;32m     39\u001b[0m     \u001b[1;33m@\u001b[0m\u001b[0mproperty\u001b[0m\u001b[1;33m\u001b[0m\u001b[1;33m\u001b[0m\u001b[0m\n",
      "\u001b[1;32mC:\\ProgramData\\Anaconda3\\lib\\site-packages\\xlrd\\__init__.py\u001b[0m in \u001b[0;36mopen_workbook\u001b[1;34m(filename, logfile, verbosity, use_mmap, file_contents, encoding_override, formatting_info, on_demand, ragged_rows)\u001b[0m\n\u001b[0;32m    109\u001b[0m     \u001b[1;32melse\u001b[0m\u001b[1;33m:\u001b[0m\u001b[1;33m\u001b[0m\u001b[1;33m\u001b[0m\u001b[0m\n\u001b[0;32m    110\u001b[0m         \u001b[0mfilename\u001b[0m \u001b[1;33m=\u001b[0m \u001b[0mos\u001b[0m\u001b[1;33m.\u001b[0m\u001b[0mpath\u001b[0m\u001b[1;33m.\u001b[0m\u001b[0mexpanduser\u001b[0m\u001b[1;33m(\u001b[0m\u001b[0mfilename\u001b[0m\u001b[1;33m)\u001b[0m\u001b[1;33m\u001b[0m\u001b[1;33m\u001b[0m\u001b[0m\n\u001b[1;32m--> 111\u001b[1;33m         \u001b[1;32mwith\u001b[0m \u001b[0mopen\u001b[0m\u001b[1;33m(\u001b[0m\u001b[0mfilename\u001b[0m\u001b[1;33m,\u001b[0m \u001b[1;34m\"rb\"\u001b[0m\u001b[1;33m)\u001b[0m \u001b[1;32mas\u001b[0m \u001b[0mf\u001b[0m\u001b[1;33m:\u001b[0m\u001b[1;33m\u001b[0m\u001b[1;33m\u001b[0m\u001b[0m\n\u001b[0m\u001b[0;32m    112\u001b[0m             \u001b[0mpeek\u001b[0m \u001b[1;33m=\u001b[0m \u001b[0mf\u001b[0m\u001b[1;33m.\u001b[0m\u001b[0mread\u001b[0m\u001b[1;33m(\u001b[0m\u001b[0mpeeksz\u001b[0m\u001b[1;33m)\u001b[0m\u001b[1;33m\u001b[0m\u001b[1;33m\u001b[0m\u001b[0m\n\u001b[0;32m    113\u001b[0m     \u001b[1;32mif\u001b[0m \u001b[0mpeek\u001b[0m \u001b[1;33m==\u001b[0m \u001b[1;34mb\"PK\\x03\\x04\"\u001b[0m\u001b[1;33m:\u001b[0m \u001b[1;31m# a ZIP file\u001b[0m\u001b[1;33m\u001b[0m\u001b[1;33m\u001b[0m\u001b[0m\n",
      "\u001b[1;31mPermissionError\u001b[0m: [Errno 13] Permission denied: 'Gen_abrev.xlsx'"
     ]
    }
   ],
   "source": [
    "df = pd.read_excel('Gen_abrev.xlsx',header= 1, sheet_name='C1',index_col=0, dtype={'Selec': 'str','Gen Abrev':'str'})\n",
    "df=df['Gen Abrev']\n"
   ]
  },
  {
   "cell_type": "code",
   "execution_count": 122,
   "metadata": {},
   "outputs": [
    {
     "name": "stdout",
     "output_type": "stream",
     "text": [
      "['KCNH7', 'GCA', 'IFIH1', 'FAP', 'GCG', 'DPP4', 'SLC4A10', 'TBR1', 'PSMD14', 'TRNAL-CAA', 'TANK', 'NXPH2', 'SPOPL', 'HNMT', 'THSD7B', 'CXCR4', 'DARS', 'MCM6', 'LCT', 'UBXN4', 'R3HDM1', 'MIR128-1', 'ZRANB3', 'RAB3GAP1', 'MAP3K19', 'CCNT2', 'ACMSD', 'TMEM163', 'MGAT5', 'NCKAP5', 'LYPD1', 'GPR39', 'SLC35F5', 'ACTR3', 'DPP10', 'GLULP (GLUL)', 'CREB1', 'METTL21A', 'CCNYL1', 'FZD5', 'PLEKHM3', 'CRYGD', 'CRYGC', 'CRYGB', 'CRYGA', 'C2H2 or f80 (c2orf80)', 'IDH1', 'PIKFYVE', 'PTH2R', 'MAP2', 'MREG', 'TMEM169', 'PECR', 'XRCC5', 'MARCH4', 'SMARCAL1', 'RPL37A', 'IGFBP2', 'IGFBP5', 'TNP1', 'TNS1', 'MIR2356', 'RUFY4', 'CXCR2', 'CXCR1', 'ARPC2', 'GPBAR1', 'AAMP', 'PNKD', 'TMBIM1', 'CATIP', 'SLC11A1', 'CTDSP1', 'MIR26B', 'VIL1', 'USP37', 'CNOT9', 'PLCD4', 'ZNF142', 'BCS1L', 'RNF25', 'STK36', 'TTLL4', 'CYP27A1', 'PRKAG3', 'WNT6', 'WNT10A', 'CDK5R2', 'FEV', 'CRYBA2', 'MIR375', 'CFAP65', 'IHH', 'NHEJ1', 'SLC23A3', 'CNPPD1', 'RETREG2', 'ZFAND2B', 'ABCB6', 'ATG9A', 'ANKZF1', 'GLB1L', 'STK16', 'TUBA4A', 'TUBA1D', 'DNAJB2', 'PTPRN', 'MIR153-1', 'RESP18', 'DNPEP', 'DES', 'SPEG', 'GMPPA', 'ASIC4', 'CHPF', 'TMEM198', 'OBSL1', 'INHA', 'TNS2', 'MIR2357', 'PTPRU', 'MECR', 'SRSF4', 'TMEM200B', 'EPB41', 'OPRD1', 'YTHDF2', 'GMEB1', 'TAF12', 'RAB42', 'SNHG12', 'TRNAU1AP', 'RCC1', 'SNHG3', 'PHACTR4', 'MED18', 'SESN2', 'ATP5IF1', 'DNAJC8', 'PTAFR', 'EYA3', 'XKR8', 'SMPDL3B', 'RPA2', 'THEMIS2', 'PPP1R8', 'STX12', 'FAM76A', 'IFI6', 'FGR', 'AHDC1', 'WASF2', 'GPR3', 'CD164L2', 'FCN3', 'MAP3K6', 'SYTL1', 'TMEM222', 'WDTC1', 'TRNAE-UUC', 'SLC9A1']\n"
     ]
    },
    {
     "data": {
      "text/plain": [
       "161"
      ]
     },
     "execution_count": 122,
     "metadata": {},
     "output_type": "execute_result"
    }
   ],
   "source": [
    "#### LIMPIEZA DE DATOS\n",
    "\n",
    "#1) PRIMERA LIMPIEZA: ELIMINAR LOS GENES QUE SE REPITEN \n",
    "data = {'Gen abrev': C2}\n",
    "df = pd.DataFrame(data, columns = ['Gen abrev'])\n",
    "#h es una variable que contiene solo las observaciones únicas\n",
    "h=df[\"Gen abrev\"].unique()\n",
    "oficial_Gen = pd.DataFrame(h, columns = ['Gen abrev'])\n",
    "## Con vale count podemos observar que no se repiten los genes\n",
    "oficial_Gen[\"Gen abrev\"].value_counts()\n",
    "###\n",
    "LISTA_DE_GENES =[]\n",
    "for i in range(len(C2)):\n",
    "   LISTA_DE_GENES.append(oficial_Gen[\"Gen abrev\"][i])\n",
    "\n",
    "#print(LISTA_DE_GENES)\n",
    "#print(len(LISTA_DE_GENES))\n",
    "LISTA_DE_GENES.remove('TRNAC-GCA ')\n",
    "print(LISTA_DE_GENES)\n",
    "len(LISTA_DE_GENES)\n"
   ]
  },
  {
   "cell_type": "code",
   "execution_count": 4,
   "metadata": {},
   "outputs": [
    {
     "name": "stdout",
     "output_type": "stream",
     "text": [
      "['KCNH7', 'GCA', 'IFIH1', 'FAP', 'GCG', 'DPP4', 'SLC4A10', 'TBR1', 'PSMD14', 'TRNAL-CAA', 'TANK', 'NXPH2', 'SPOPL', 'HNMT', 'THSD7B', 'CXCR4', 'DARS', 'MCM6', 'LCT', 'UBXN4', 'R3HDM1', 'MIR128-1', 'ZRANB3', 'RAB3GAP1', 'MAP3K19', 'CCNT2', 'ACMSD', 'TMEM163', 'MGAT5', 'NCKAP5', 'LYPD1', 'GPR39', 'SLC35F5', 'ACTR3', 'DPP10', 'GLULP+%28GLUL%29', 'CREB1', 'METTL21A', 'CCNYL1', 'FZD5', 'PLEKHM3', 'CRYGD', 'CRYGC', 'CRYGB', 'CRYGA', 'C2H2+or+f80+%28c2orf80%29', 'IDH1', 'PIKFYVE', 'PTH2R', 'MAP2', 'MREG', 'TMEM169', 'PECR', 'XRCC5', 'MARCH4', 'SMARCAL1', 'RPL37A', 'IGFBP2', 'IGFBP5', 'TNP1', 'TNS1', 'MIR2356', 'RUFY4', 'CXCR2', 'CXCR1', 'ARPC2', 'GPBAR1', 'AAMP', 'PNKD', 'TMBIM1', 'CATIP', 'SLC11A1', 'CTDSP1', 'MIR26B', 'VIL1', 'USP37', 'CNOT9', 'PLCD4', 'ZNF142', 'BCS1L', 'RNF25', 'STK36', 'TTLL4', 'CYP27A1', 'PRKAG3', 'WNT6', 'WNT10A', 'CDK5R2', 'FEV', 'CRYBA2', 'MIR375', 'CFAP65', 'IHH', 'NHEJ1', 'SLC23A3', 'CNPPD1', 'RETREG2', 'ZFAND2B', 'ABCB6', 'ATG9A', 'ANKZF1', 'GLB1L', 'STK16', 'TUBA4A', 'TUBA1D', 'DNAJB2', 'PTPRN', 'MIR153-1', 'RESP18', 'DNPEP', 'DES', 'SPEG', 'GMPPA', 'ASIC4', 'CHPF', 'TMEM198', 'OBSL1', 'INHA', 'TNS2', 'MIR2357', 'PTPRU', 'MECR', 'SRSF4', 'TMEM200B', 'EPB41', 'OPRD1', 'YTHDF2', 'GMEB1', 'TAF12', 'RAB42', 'SNHG12', 'TRNAU1AP', 'RCC1', 'SNHG3', 'PHACTR4', 'MED18', 'SESN2', 'ATP5IF1', 'DNAJC8', 'PTAFR', 'EYA3', 'XKR8', 'SMPDL3B', 'RPA2', 'THEMIS2', 'PPP1R8', 'STX12', 'FAM76A', 'IFI6', 'FGR', 'AHDC1', 'WASF2', 'GPR3', 'CD164L2', 'FCN3', 'MAP3K6', 'SYTL1', 'TMEM222', 'WDTC1', 'TRNAE-UUC', 'SLC9A1']\n"
     ]
    }
   ],
   "source": [
    "#para crear los links correspondientess de busqueda tenemos que hacer una modificaciones\n",
    "lista=[]\n",
    "for genes in LISTA_DE_GENES:\n",
    "    lista.append(genes.replace(\" \", \"+\"))\n",
    "#print(lista)\n",
    "\n",
    "lista1=[]\n",
    "for genes in lista:\n",
    "    lista1.append(genes.replace(\"(\",\"%28\"))\n",
    "#print(lista1)\n",
    "\n",
    "query=[]\n",
    "for genes in lista1:\n",
    "    query.append(genes.replace(\")\",\"%29\"))\n",
    "print(query)    \n",
    "    "
   ]
  },
  {
   "cell_type": "code",
   "execution_count": 120,
   "metadata": {},
   "outputs": [
    {
     "name": "stdout",
     "output_type": "stream",
     "text": [
      "[]\n"
     ]
    }
   ],
   "source": [
    "links=[]\n",
    "\n",
    "for i in query[2000:2004]:\n",
    "    links.append(\"https://www.uniprot.org/uniprot/?query=\"+ str(i) + \"+Bos+taurus&sort=score\")\n",
    "print(links)"
   ]
  },
  {
   "cell_type": "code",
   "execution_count": 6,
   "metadata": {},
   "outputs": [
    {
     "name": "stdout",
     "output_type": "stream",
     "text": [
      "['F1N4A4', 'Q3MHX3', 'E1BJZ0', 'A5D7B7', 'P01272', 'P81425', 'Q32LP4', 'E1BK81', 'A1L5A6', 'Na']\n"
     ]
    }
   ],
   "source": [
    "#######################\n",
    "# COLUMNA ENTRY (2)\n",
    "#######################\n",
    "\n",
    "\n",
    "import urllib.request, urllib.parse, urllib.error #(solicitud,analizar,error)\n",
    "import re\n",
    "import ssl  \n",
    "ctx = ssl.create_default_context()                    #crear un contexto predeterminado\n",
    "ctx.check_hostname = False                            #comprobar el nombre de host\n",
    "ctx.verify_mode = ssl.CERT_NONE                       #modo de verificación\n",
    "\n",
    "LISTA_ENTRY = []\n",
    "\n",
    "for codigo in links:\n",
    "    url = codigo\n",
    "    html = urllib.request.urlopen(url, context=ctx).read()  \n",
    "    link = re.findall(b'<a href=\".uniprot.([a-zA-Z].*?)\"', html) \n",
    "    if len(link)==0:\n",
    "        LISTA_ENTRY.append(\"Na\")\n",
    "    else:\n",
    "        objeto=link[0].decode()\n",
    "        LISTA_ENTRY = LISTA_ENTRY +[objeto] \n",
    "print(LISTA_ENTRY)   \n"
   ]
  },
  {
   "cell_type": "code",
   "execution_count": 7,
   "metadata": {},
   "outputs": [
    {
     "name": "stdout",
     "output_type": "stream",
     "text": [
      "['F1N4A4_BOVIN', 'RBM4_BOVIN', 'E1BJZ0_BOVIN', 'SEPR_BOVIN', 'GLUC_BOVIN', 'DPP4_BOVIN', 'S4A10_BOVIN', 'E1BK81_BOVIN', 'ADRM1_BOVIN', 'Na']\n"
     ]
    },
    {
     "data": {
      "text/plain": [
       "10"
      ]
     },
     "execution_count": 7,
     "metadata": {},
     "output_type": "execute_result"
    }
   ],
   "source": [
    "############################\n",
    "# COLUMNA ENTRY NAME (3)\n",
    "############################\n",
    "\n",
    "lista2 = []\n",
    "\n",
    "for codigo in links:\n",
    "    url = codigo\n",
    "    html = urllib.request.urlopen(url, context=ctx).read()  \n",
    "    link = re.findall(b'<td>([A-Z].*?)<.td>', html) \n",
    "    if len(link)==0:\n",
    "        lista2.append('Na')\n",
    "    else:\n",
    "        objeto=link[0].decode()\n",
    "        lista2=lista2 +[objeto] \n",
    "print(lista2)    \n",
    "len(lista2)"
   ]
  },
  {
   "cell_type": "code",
   "execution_count": 8,
   "metadata": {},
   "outputs": [
    {
     "data": {
      "text/plain": [
       "10"
      ]
     },
     "execution_count": 8,
     "metadata": {},
     "output_type": "execute_result"
    }
   ],
   "source": [
    "###########################################\n",
    "# COLUMNA PROTEIN  (4)\n",
    "###########################################\n",
    "\n",
    "urls=[] \n",
    "\n",
    "for i in LISTA_ENTRY:\n",
    "    if i==\"Na\":\n",
    "        urls.append(0)\n",
    "    else:\n",
    "        urls.append(\"https://www.uniprot.org/uniprot/\"+str(i))\n",
    "#print(urls)\n",
    "\n",
    "PROTEINA=[]\n",
    "\n",
    "for i in urls:\n",
    "    if i==0:\n",
    "        PROTEINA.append(\"Na\")\n",
    "#print(PROTEINA)\n",
    "    else:        \n",
    "        url = i\n",
    "        html = urllib.request.urlopen(url, context=ctx).read()  \n",
    "        links = re.findall(b'<h1 property=\"name\">([\\[*a-zA-Z0-9].*?)<', html) \n",
    "        for link in links:\n",
    "            nuevo=link.decode()\n",
    "            PROTEINA = PROTEINA+[nuevo]\n",
    "            \n",
    "#print(PROTEINA)\n",
    "len(PROTEINA)"
   ]
  },
  {
   "cell_type": "code",
   "execution_count": 9,
   "metadata": {},
   "outputs": [
    {
     "data": {
      "text/plain": [
       "10"
      ]
     },
     "execution_count": 9,
     "metadata": {},
     "output_type": "execute_result"
    }
   ],
   "source": [
    "########################################\n",
    "# COLUMNA5 GENES  (5)\n",
    "########################################\n",
    "\n",
    "GENES=[]\n",
    "\n",
    "for i in urls:\n",
    "    if i==0:\n",
    "        GENES.append(0)\n",
    "    else:        \n",
    "        url = i\n",
    "        html = urllib.request.urlopen(url, context=ctx).read()  \n",
    "        links = re.findall(b'<h2>([A-Z].*?)<', html) \n",
    "        for link in links:\n",
    "            nuevo=link.decode()\n",
    "            GENES=GENES+[nuevo]\n",
    "#print(GENES)\n",
    "len(GENES)"
   ]
  },
  {
   "cell_type": "code",
   "execution_count": 10,
   "metadata": {},
   "outputs": [
    {
     "data": {
      "text/plain": [
       "10"
      ]
     },
     "execution_count": 10,
     "metadata": {},
     "output_type": "execute_result"
    }
   ],
   "source": [
    "################################\n",
    "# COLUMNA ORGANISMO  (6)\n",
    "################################\n",
    "\n",
    "ORGANISMO=[]\n",
    "\n",
    "for i in urls:\n",
    "    if i==0:\n",
    "        ORGANISMO.append(0)\n",
    "    else:        \n",
    "        url = i\n",
    "        html = urllib.request.urlopen(url, context=ctx).read()  \n",
    "        links = re.findall(b'<em>([A-Z].*?)</em>', html) \n",
    "        for link in links:\n",
    "            nuevo=link.decode()\n",
    "            ORGANISMO=ORGANISMO+[nuevo]\n",
    "#print(ORGANISMO)\n",
    "len(ORGANISMO)"
   ]
  },
  {
   "cell_type": "code",
   "execution_count": 11,
   "metadata": {},
   "outputs": [
    {
     "data": {
      "text/plain": [
       "10"
      ]
     },
     "execution_count": 11,
     "metadata": {},
     "output_type": "execute_result"
    }
   ],
   "source": [
    "################################\n",
    "# COLUMNA STATUS  (7)\n",
    "################################\n",
    "\n",
    "STATUS=[]\n",
    "\n",
    "for i in urls:\n",
    "    if i==0:\n",
    "        STATUS.append(0)\n",
    "    else:        \n",
    "        url = i\n",
    "        html = urllib.request.urlopen(url, context=ctx).read()  \n",
    "        links = re.findall(b'<span>([UR].*viewed)', html) \n",
    "        for link in links:\n",
    "            nuevo=link.decode()\n",
    "            STATUS=STATUS+[nuevo]\n",
    "#print(STATUS)\n",
    "\n",
    "len(STATUS)"
   ]
  },
  {
   "cell_type": "code",
   "execution_count": 13,
   "metadata": {},
   "outputs": [
    {
     "name": "stdout",
     "output_type": "stream",
     "text": [
      "['potassium ion transmembrane transport.regulation of membrane potential.', 'cap-independent translational initiation.cell differentiation.circadian regulation of translation.entrainment of circadian clock by photoperiod.IRES-dependent translational initiation of linear mRNA.miRNA mediated inhibition of translation.mRNA splicing, via spliceosome.negative regulation of translation.negative regulation of translational initiation.negative regulation of translation in response to stress.positive regulation of muscle cell differentiation.regulation of alternative mRNA splicing, via spliceosome.regulation of nucleocytoplasmic transport.response to arsenic-containing substance.', 'cellular response to exogenous dsRNA.innate immune response.MDA-5 signaling pathway.positive regulation of interferon-alpha production.positive regulation of interferon-beta production.positive regulation of interleukin-6 production.positive regulation of response to cytokine stimulus.positive regulation of tumor necrosis factor production.protein sumoylation.response to virus.']\n"
     ]
    }
   ],
   "source": [
    "################################\n",
    "# COLUMNA GO - Biological process  (8)\n",
    "################################\n",
    "\n",
    "GO_Biological_process = []\n",
    "\n",
    "for i in urls[0:5]:\n",
    "    if i==0:\n",
    "        GO_Biological_process.append(\"Na\")\n",
    "    else:\n",
    "        uclient=urlopen(i)\n",
    "        pagehtml=uclient.read()\n",
    "        uclient.close()                                    \n",
    "        pagesoup=soup(pagehtml, \"html.parser\")\n",
    "        page=pagesoup.find(\"ul\",{\"class\":\"noNumbering biological_process\"}) \n",
    "        location=page.find_all(\"a\",{\"onclick\":\"window.ga('UniProt-Entry-View', 'click', 'Display-GO-Term');\"})\n",
    "        #print(location)\n",
    "        cadena = \"\"\n",
    "        for i in range(0,len(location)):\n",
    "            if location[i].text==\"\":\n",
    "                cadena = cadena + \"-\"\n",
    "            else:\n",
    "                #GO_Biological_process.append(location[i].text)\n",
    "                cadena = cadena + location[i].text + \".\"\n",
    "            #print(type(location[i].text))\n",
    "            \n",
    "        GO_Biological_process.append(cadena)\n",
    "\n",
    "print(GO_Biological_process)"
   ]
  },
  {
   "cell_type": "code",
   "execution_count": 109,
   "metadata": {},
   "outputs": [
    {
     "name": "stdout",
     "output_type": "stream",
     "text": [
      "['Na', 'Activator,RNA-binding,', 'Helicase,Hydrolase,RNA-binding,', 'Hydrolase,Protease,Serine protease,', 'Hormone,', 'Aminopeptidase,Hydrolase,Protease,Receptor,Serine protease,', 'Na', 'DNA-binding,', 'Na', 'Na']\n"
     ]
    }
   ],
   "source": [
    "########### COLUMNA molecular function (9) ##############\n",
    "\n",
    "col_molecular_f=[]\n",
    "\n",
    "for link in urls[:10]:\n",
    "    if link !=0:\n",
    "        uclient=urlopen(link)\n",
    "        pagehtml=uclient.read()\n",
    "        uclient.close()\n",
    "        pagesoup=soup(pagehtml, \"html.parser\")\n",
    "\n",
    "\n",
    "        if pagesoup.find(\"div\",{\"id\":\"function\"}):\n",
    "            section=pagesoup.find(\"div\",{\"id\":\"function\"})\n",
    "            if section.find(\"table\",{\"class\":\"databaseTable\"}): \n",
    "                tabla=section.find(\"table\",{\"class\":\"databaseTable\"})\n",
    "                span=tabla.find(\"tbody\")\n",
    "                td=tabla.find_all(\"td\")\n",
    "                for i in range(len(td)):\n",
    "                    if td[i].text == \"Molecular function\":\n",
    "                        span=td[i+1].find_all(\"span\",recursive=False)\n",
    "                        span_0=span[0].find_all(\"a\",recursive=False)\n",
    "                        string=\"\"\n",
    "                        for spancito in span_0:\n",
    "                            string= string  + spancito.text + \",\"\n",
    "\n",
    "                        col_molecular_f.append(string)    \n",
    "\n",
    "\n",
    "                        break\n",
    "                    else:\n",
    "                        if i ==len(td)-1: #Esto pregunta si es el ultimo 'td', si es asi y no lo encuentra, agrega 'Na'\n",
    "                            col_molecular_f.append(\"Na\")\n",
    "                        \n",
    "                        else:\n",
    "                            continue #Caso contrario, no fuese el ultimo elemento td, continua la iteración\n",
    "            else :\n",
    "                col_molecular_f.append(\"Na\")\n",
    "        else:\n",
    "            col_molecular_f.append(\"Na\")\n",
    "    else:\n",
    "        col_molecular_f.append(\"Na\")\n",
    "        \n",
    "        \n",
    "print(col_molecular_f)\n",
    "\n"
   ]
  },
  {
   "cell_type": "code",
   "execution_count": 110,
   "metadata": {},
   "outputs": [
    {
     "data": {
      "text/plain": [
       "10"
      ]
     },
     "execution_count": 110,
     "metadata": {},
     "output_type": "execute_result"
    }
   ],
   "source": [
    "len(col_molecular_f)\n",
    "    "
   ]
  },
  {
   "cell_type": "code",
   "execution_count": 14,
   "metadata": {},
   "outputs": [
    {
     "name": "stdout",
     "output_type": "stream",
     "text": [
      "['Activator, RNA-binding']\n"
     ]
    }
   ],
   "source": [
    "########### COLUMNA biological process (10) ##############\n",
    "### YA NO FUNCIONA###\n",
    "\n",
    "col_biological_p=[]\n",
    "for link in urls[0:2]:\n",
    "    \n",
    "    uclient=urlopen(link)\n",
    "    pagehtml=uclient.read()\n",
    "    uclient.close()\n",
    "    pagesoup=soup(pagehtml, \"html.parser\")\n",
    "    \n",
    "\n",
    "\n",
    "\n",
    " \n",
    "    section=pagesoup.find(\"div\",{\"id\":\"function\"})\n",
    "    if section.find(\"table\",{\"class\":\"databaseTable\"}): \n",
    "        tabla=section.find(\"table\",{\"class\":\"databaseTable\"})\n",
    "        \n",
    "        tr=tabla.find_all(\"tr\")\n",
    "        if len(tr)>1:\n",
    "            span=tr[1].find_all(\"span\")\n",
    "            span_0=span[0].find_all(\"a\",recursive=False)\n",
    "            cadenita=\"\"\n",
    "            for i in range(0,len(span_0)):\n",
    "                cadenita=  cadenita + span_0[i].text +\",\"\n",
    "            \n",
    "            col_biological_p.append(cadenita)\n",
    "        else:\n",
    "            col_biological_p.append(\"Na\")\n",
    "    else:\n",
    "        col_biological_p.append(\"Na\")\n",
    "        \n",
    "# print(col_molecular_f)\n",
    "# print(col_molecular_f)\n",
    "# print(len(span_0))\n",
    "print(col_biological_p)\n"
   ]
  },
  {
   "cell_type": "code",
   "execution_count": 107,
   "metadata": {},
   "outputs": [
    {
     "name": "stdout",
     "output_type": "stream",
     "text": [
      "['Na', 'Differentiation,mRNA processing,mRNA splicing,RNA-mediated gene silencing,', 'Antiviral defense,Immunity,Innate immunity,', 'Angiogenesis,Apoptosis,Cell adhesion,', 'Na', 'Cell adhesion,', 'Antiport,Ion transport,Sodium transport,Symport,Transport,', 'Transcription,Transcription regulation,', 'Na', 'Na']\n"
     ]
    }
   ],
   "source": [
    "########### COLUMNA biological process (10)* ##############\n",
    "\n",
    "col_biological_p1=[]\n",
    "\n",
    "for link in urls[:10]:\n",
    "    if link !=0:\n",
    "        uclient=urlopen(link)\n",
    "        pagehtml=uclient.read()\n",
    "        uclient.close()\n",
    "        pagesoup=soup(pagehtml, \"html.parser\")\n",
    "\n",
    "\n",
    "        if pagesoup.find(\"div\",{\"id\":\"function\"}):\n",
    "            section=pagesoup.find(\"div\",{\"id\":\"function\"})\n",
    "            if section.find(\"table\",{\"class\":\"databaseTable\"}): \n",
    "                tabla=section.find(\"table\",{\"class\":\"databaseTable\"})\n",
    "                td=tabla.find_all(\"td\")\n",
    "                for i in range(len(td)):\n",
    "                    if td[i].text == \"Biological process\":\n",
    "                        span=td[i+1].find_all(\"span\",recursive=False)\n",
    "                        span_0=span[0].find_all(\"a\",recursive=False)\n",
    "                        string=\"\"\n",
    "                        for spancito in span_0:\n",
    "                            string= string  + spancito.text + \",\"\n",
    "\n",
    "                        col_biological_p1.append(string)    \n",
    "\n",
    "\n",
    "                        break\n",
    "                    else:\n",
    "                        if i ==len(td)-1:\n",
    "                            col_biological_p1.append(\"Na\")\n",
    "                            \n",
    "                        else:\n",
    "                            continue\n",
    "                            \n",
    "                            \n",
    "            else :\n",
    "                col_biological_p1.append(\"Na\")\n",
    "        else:\n",
    "            col_biological_p1.append(\"Na\")\n",
    "    else:\n",
    "        col_biological_p1.append(\"Na\")\n",
    "        \n",
    "print(col_biological_p1)\n"
   ]
  },
  {
   "cell_type": "code",
   "execution_count": 108,
   "metadata": {},
   "outputs": [
    {
     "data": {
      "text/plain": [
       "10"
      ]
     },
     "execution_count": 108,
     "metadata": {},
     "output_type": "execute_result"
    }
   ],
   "source": [
    "len(col_biological_p1)"
   ]
  },
  {
   "cell_type": "code",
   "execution_count": 19,
   "metadata": {},
   "outputs": [],
   "source": [
    "import pandas as pd\n",
    "##Guardando un archivo de formato data frame\n",
    "#Creamos un diccionario data\n",
    "data = {'Gen abrev': LISTA_DE_GENES,\n",
    "        'Entry': LISTA_ENTRY}\n",
    "# Luego creamos un dataframe y especificamos las columnas.\n",
    "df = pd.DataFrame(data, columns = ['Gen abrev','Entry'])\n",
    "# El nombre del archivo será \"headers.csv\"\n",
    "#df.to_excel('Reporte.xlsx')\n"
   ]
  },
  {
   "cell_type": "code",
   "execution_count": 25,
   "metadata": {},
   "outputs": [],
   "source": [
    "### creación del excel\n",
    "from pandas import ExcelWriter\n",
    "writer = ExcelWriter('./C2.xlsx')\n",
    "df.to_excel(writer, 'C2', index=False)\n",
    "writer.save()"
   ]
  },
  {
   "cell_type": "code",
   "execution_count": 26,
   "metadata": {},
   "outputs": [],
   "source": [
    "import openpyxl\n",
    "import pandas as pd"
   ]
  },
  {
   "cell_type": "code",
   "execution_count": 51,
   "metadata": {},
   "outputs": [
    {
     "data": {
      "text/plain": [
       "pandas.core.frame.DataFrame"
      ]
     },
     "execution_count": 51,
     "metadata": {},
     "output_type": "execute_result"
    }
   ],
   "source": [
    "##### ipiynb aparte\n",
    "C1 = \"Prueba1.xlsx\"\n",
    "C2=  \"C2.xlsx\"\n",
    "\n",
    "df1 = pd.read_excel(C1)\n",
    "df2 = pd.read_excel(C2)\n",
    "\n",
    "#print(df2)\n",
    "values1 = df1[['Gen abrev', 'Entry']]\n",
    "values2= df2[['Gen abrev', 'Entry']]\n",
    "\n",
    "type(values1)\n",
    "join = pd.concat(dataframes)\n",
    "\n",
    "#join.to_excel('Prueba.xlsx', 'Prueba', index=False)"
   ]
  },
  {
   "cell_type": "code",
   "execution_count": 47,
   "metadata": {},
   "outputs": [
    {
     "name": "stderr",
     "output_type": "stream",
     "text": [
      "C:\\Users\\MyN\\anaconda3\\lib\\site-packages\\xlsxwriter\\workbook.py:329: UserWarning: Calling close() on already closed file.\n",
      "  warn(\"Calling close() on already closed file.\")\n"
     ]
    }
   ],
   "source": []
  },
  {
   "cell_type": "code",
   "execution_count": 48,
   "metadata": {},
   "outputs": [
    {
     "data": {
      "text/plain": [
       "pandas.core.frame.DataFrame"
      ]
     },
     "execution_count": 48,
     "metadata": {},
     "output_type": "execute_result"
    }
   ],
   "source": []
  },
  {
   "cell_type": "code",
   "execution_count": 23,
   "metadata": {},
   "outputs": [],
   "source": [
    "import pandas as pd\n",
    "from seaborn import load_dataset\n",
    "C1 = \"Prueba1.xlsx\"\n",
    "C2=  \"C2.xlsx\"\n",
    "\n",
    "df1 = pd.read_excel(C1)\n",
    "df2 = pd.read_excel(C2)\n",
    "\n",
    "#print(df2)\n",
    "values1 = df1[['Gen abrev', 'Entry']]\n",
    "values2= df2[['Gen abrev', 'Entry']]\n",
    "\n",
    "writer = pd.ExcelWriter('archivo1.xlsx')\n",
    "values1.to_excel(writer, sheet_name=\"C1\", index=False)\n",
    "values2.to_excel(writer, sheet_name=\"C2\", index=False)\n",
    "writer.save()\n",
    "writer.close()"
   ]
  },
  {
   "cell_type": "code",
   "execution_count": 22,
   "metadata": {},
   "outputs": [
    {
     "data": {
      "text/plain": [
       "pandas.core.frame.DataFrame"
      ]
     },
     "execution_count": 22,
     "metadata": {},
     "output_type": "execute_result"
    }
   ],
   "source": [
    "type(values1)"
   ]
  },
  {
   "cell_type": "code",
   "execution_count": null,
   "metadata": {},
   "outputs": [],
   "source": []
  }
 ],
 "metadata": {
  "kernelspec": {
   "display_name": "Python 3",
   "language": "python",
   "name": "python3"
  },
  "language_info": {
   "codemirror_mode": {
    "name": "ipython",
    "version": 3
   },
   "file_extension": ".py",
   "mimetype": "text/x-python",
   "name": "python",
   "nbconvert_exporter": "python",
   "pygments_lexer": "ipython3",
   "version": "3.8.5"
  }
 },
 "nbformat": 4,
 "nbformat_minor": 4
}
