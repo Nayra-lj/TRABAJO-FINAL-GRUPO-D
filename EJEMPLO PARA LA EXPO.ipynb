{
 "cells": [
  {
   "cell_type": "markdown",
   "metadata": {},
   "source": [
    "### EJEMPLO "
   ]
  },
  {
   "cell_type": "code",
   "execution_count": 2,
   "metadata": {},
   "outputs": [],
   "source": [
    "from bs4 import BeautifulSoup as soup\n",
    "import requests\n",
    "import urllib.request   \n",
    "import pandas as pd\n",
    "\n",
    "from urllib.request import urlopen\n",
    "from bs4 import BeautifulSoup as soup\n"
   ]
  },
  {
   "cell_type": "code",
   "execution_count": 8,
   "metadata": {
    "scrolled": true
   },
   "outputs": [
    {
     "data": {
      "text/plain": [
       "15       C1H3orf85\n",
       "16    LOC112448290\n",
       "17    LOC101903052\n",
       "18           DPPA2\n",
       "19           DPPA4\n",
       "20    LOC100337136\n",
       "21       LOC783844\n",
       "22            RTP4\n",
       "23           MASP1\n",
       "24            RTP1\n",
       "25    LOC100847189\n",
       "26         ST6GAL1\n",
       "27      MIR2285K-3\n",
       "28          ADIPOQ\n",
       "29            RFC4\n",
       "Name: Gen abrev, dtype: object"
      ]
     },
     "execution_count": 8,
     "metadata": {},
     "output_type": "execute_result"
    }
   ],
   "source": [
    "DF = pd.read_excel('Gen_abrev.xlsx', sheet_name=\"C1\",skiprows=0)\n",
    "DF\n",
    "genasociado= DF[\"Gen abrev\"]\n",
    "genasociado=genasociado[15:30] # solo extraemos las primeras 818 filas\n",
    "genasociado"
   ]
  },
  {
   "cell_type": "code",
   "execution_count": 14,
   "metadata": {},
   "outputs": [
    {
     "data": {
      "text/plain": [
       "23    MASP1\n",
       "Name: Gen abrev, dtype: object"
      ]
     },
     "execution_count": 14,
     "metadata": {},
     "output_type": "execute_result"
    }
   ],
   "source": [
    "ejemplo = genasociado[8:9] # NÚMERO 23\n",
    "ejemplo"
   ]
  },
  {
   "cell_type": "code",
   "execution_count": 10,
   "metadata": {},
   "outputs": [
    {
     "name": "stdout",
     "output_type": "stream",
     "text": [
      "['C1H3orf85', 'LOC112448290', 'LOC101903052', 'DPPA2', 'DPPA4', 'LOC100337136', 'LOC783844', 'RTP4', 'MASP1', 'RTP1', 'LOC100847189', 'ST6GAL1', 'MIR2285K-3', 'ADIPOQ', 'RFC4']\n"
     ]
    },
    {
     "data": {
      "text/plain": [
       "15"
      ]
     },
     "execution_count": 10,
     "metadata": {},
     "output_type": "execute_result"
    }
   ],
   "source": [
    "########################################################\n",
    "# COLUMNA1 Gen Abrev                                   #\n",
    "########################################################\n",
    "\n",
    "gen_abreviado1=[]\n",
    "\n",
    "for i in genasociado:\n",
    "    gen_abreviado1.append(i)\n",
    "print(gen_abreviado1)\n",
    "len(gen_abreviado1)"
   ]
  },
  {
   "cell_type": "code",
   "execution_count": 16,
   "metadata": {},
   "outputs": [
    {
     "data": {
      "text/plain": [
       "['MASP1']"
      ]
     },
     "execution_count": 16,
     "metadata": {},
     "output_type": "execute_result"
    }
   ],
   "source": [
    "Gen_Abrev = gen_abreviado1[8:9]\n",
    "Gen_Abrev"
   ]
  },
  {
   "cell_type": "code",
   "execution_count": 17,
   "metadata": {
    "scrolled": true
   },
   "outputs": [
    {
     "name": "stdout",
     "output_type": "stream",
     "text": [
      "['https://www.uniprot.org/uniprot/?query=C1H3orf85+Bos+taurus&sort=score', 'https://www.uniprot.org/uniprot/?query=LOC112448290+Bos+taurus&sort=score', 'https://www.uniprot.org/uniprot/?query=LOC101903052+Bos+taurus&sort=score', 'https://www.uniprot.org/uniprot/?query=DPPA2+Bos+taurus&sort=score', 'https://www.uniprot.org/uniprot/?query=DPPA4+Bos+taurus&sort=score', 'https://www.uniprot.org/uniprot/?query=LOC100337136+Bos+taurus&sort=score', 'https://www.uniprot.org/uniprot/?query=LOC783844+Bos+taurus&sort=score', 'https://www.uniprot.org/uniprot/?query=RTP4+Bos+taurus&sort=score', 'https://www.uniprot.org/uniprot/?query=MASP1+Bos+taurus&sort=score', 'https://www.uniprot.org/uniprot/?query=RTP1+Bos+taurus&sort=score', 'https://www.uniprot.org/uniprot/?query=LOC100847189+Bos+taurus&sort=score', 'https://www.uniprot.org/uniprot/?query=ST6GAL1+Bos+taurus&sort=score', 'https://www.uniprot.org/uniprot/?query=MIR2285K-3+Bos+taurus&sort=score', 'https://www.uniprot.org/uniprot/?query=ADIPOQ+Bos+taurus&sort=score', 'https://www.uniprot.org/uniprot/?query=RFC4+Bos+taurus&sort=score']\n"
     ]
    },
    {
     "data": {
      "text/plain": [
       "15"
      ]
     },
     "execution_count": 17,
     "metadata": {},
     "output_type": "execute_result"
    }
   ],
   "source": [
    "####################################################\n",
    "# CREACION DE LINK(PRIMERA BÚSQUEDA)              #\n",
    "####################################################\n",
    "\n",
    "links=[]\n",
    "\n",
    "for i in gen_abreviado1:\n",
    "    links.append(\"https://www.uniprot.org/uniprot/?query=\"+ str(i) + \"+Bos+taurus&sort=score\")\n",
    "print(links)\n",
    "len(links)"
   ]
  },
  {
   "cell_type": "code",
   "execution_count": 19,
   "metadata": {},
   "outputs": [
    {
     "data": {
      "text/plain": [
       "['https://www.uniprot.org/uniprot/?query=MASP1+Bos+taurus&sort=score']"
      ]
     },
     "execution_count": 19,
     "metadata": {},
     "output_type": "execute_result"
    }
   ],
   "source": [
    "link = links[8:9]\n",
    "link"
   ]
  },
  {
   "cell_type": "code",
   "execution_count": 20,
   "metadata": {},
   "outputs": [
    {
     "name": "stdout",
     "output_type": "stream",
     "text": [
      "['Na', 'Na', 'Na', 'F1MQI2', 'Q2YDF9', 'Na', 'Na', 'P79350', 'Q17QH6', 'E1BCB2', 'Na', 'A0A3Q1M347', 'Na', 'Q3Y5Z3', 'A0A3Q1M1J3']\n"
     ]
    },
    {
     "data": {
      "text/plain": [
       "15"
      ]
     },
     "execution_count": 20,
     "metadata": {},
     "output_type": "execute_result"
    }
   ],
   "source": [
    "####################################################\n",
    "# COLUMNA2 ENTRY                                   #\n",
    "####################################################\n",
    "\n",
    "# IMPORTAMOS LAS LIBRERIAS QUE USAREMOS \n",
    "\n",
    "import urllib.request, urllib.parse, urllib.error \n",
    "import re\n",
    "import ssl  \n",
    "ctx = ssl.create_default_context()                 \n",
    "ctx.check_hostname = False                            \n",
    "ctx.verify_mode = ssl.CERT_NONE                     \n",
    "\n",
    "LISTA_ENTRY_1 = []  \n",
    "\n",
    "for codigo in links:\n",
    "    url = codigo \n",
    "    html = urllib.request.urlopen(url, context=ctx).read() \n",
    "    link = re.findall(b'<a href=\".uniprot.([a-zA-Z].*?)\"', html) \n",
    "    if len(link)==0:\n",
    "        LISTA_ENTRY_1.append(\"Na\")\n",
    "    else:\n",
    "        objeto=link[0].decode()\n",
    "        LISTA_ENTRY_1 = LISTA_ENTRY_1 +[objeto] \n",
    "print(LISTA_ENTRY_1)   \n",
    "len(LISTA_ENTRY_1)"
   ]
  },
  {
   "cell_type": "code",
   "execution_count": 22,
   "metadata": {},
   "outputs": [
    {
     "data": {
      "text/plain": [
       "'Q17QH6'"
      ]
     },
     "execution_count": 22,
     "metadata": {},
     "output_type": "execute_result"
    }
   ],
   "source": [
    "Entry = LISTA_ENTRY_1[8]\n",
    "Entry"
   ]
  },
  {
   "cell_type": "code",
   "execution_count": 23,
   "metadata": {},
   "outputs": [
    {
     "name": "stdout",
     "output_type": "stream",
     "text": [
      "['Na', 'Na', 'Na', 'F1MQI2_BOVIN', 'PCGF1_BOVIN', 'Na', 'Na', 'OPRM_BOVIN', 'COL11_BOVIN', 'E1BCB2_BOVIN', 'Na', 'A0A3Q1M347_BOVIN', 'Na', 'ADIPO_BOVIN', 'A0A3Q1M1J3_BOVIN']\n",
      "15\n"
     ]
    }
   ],
   "source": [
    "#######################################################\n",
    "# COLUMNA3 ENTRY NAME                                 #\n",
    "#######################################################\n",
    "\n",
    "lista1 = [] \n",
    "\n",
    "for codigo in links: \n",
    "    url = codigo \n",
    "    html = urllib.request.urlopen(url, context=ctx).read()  \n",
    "    link = re.findall(b'<td>([A-Z].*?)<.td>', html) \n",
    "    if len(link)==0: \n",
    "        lista1.append('Na')\n",
    "    else:\n",
    "        objeto=link[0].decode() \n",
    "        lista1=lista1 +[objeto] \n",
    "print(lista1)    \n",
    "print(len(lista1))"
   ]
  },
  {
   "cell_type": "code",
   "execution_count": 26,
   "metadata": {},
   "outputs": [
    {
     "data": {
      "text/plain": [
       "'COL11_BOVIN'"
      ]
     },
     "execution_count": 26,
     "metadata": {},
     "output_type": "execute_result"
    }
   ],
   "source": [
    "Entry_name = lista1[8]\n",
    "Entry_name"
   ]
  },
  {
   "cell_type": "code",
   "execution_count": 28,
   "metadata": {},
   "outputs": [
    {
     "name": "stdout",
     "output_type": "stream",
     "text": [
      "['Na', 'Na', 'Na', 'https://www.uniprot.org/uniprot/F1MQI2', 'https://www.uniprot.org/uniprot/Q2YDF9', 'Na', 'Na', 'https://www.uniprot.org/uniprot/P79350', 'https://www.uniprot.org/uniprot/Q17QH6', 'https://www.uniprot.org/uniprot/E1BCB2', 'Na', 'https://www.uniprot.org/uniprot/A0A3Q1M347', 'Na', 'https://www.uniprot.org/uniprot/Q3Y5Z3', 'https://www.uniprot.org/uniprot/A0A3Q1M1J3']\n"
     ]
    },
    {
     "data": {
      "text/plain": [
       "15"
      ]
     },
     "execution_count": 28,
     "metadata": {},
     "output_type": "execute_result"
    }
   ],
   "source": [
    "#######################################################\n",
    "# OBTENIENDO URLS (SEGUNDA BUSQUEDA)                  #\n",
    "#######################################################\n",
    "\n",
    "urls=[] \n",
    "\n",
    "for i in LISTA_ENTRY_1: \n",
    "    if i==\"Na\": \n",
    "        urls.append(\"Na\")\n",
    "    else:\n",
    "        urls.append(\"https://www.uniprot.org/uniprot/\"+str(i))\n",
    "                                                              \n",
    "print(urls) \n",
    "len(urls) "
   ]
  },
  {
   "cell_type": "code",
   "execution_count": 30,
   "metadata": {},
   "outputs": [
    {
     "data": {
      "text/plain": [
       "'https://www.uniprot.org/uniprot/Q17QH6'"
      ]
     },
     "execution_count": 30,
     "metadata": {},
     "output_type": "execute_result"
    }
   ],
   "source": [
    "url = urls[8]\n",
    "url"
   ]
  },
  {
   "cell_type": "code",
   "execution_count": 33,
   "metadata": {},
   "outputs": [
    {
     "name": "stdout",
     "output_type": "stream",
     "text": [
      "['Na', 'Na', 'Na', 'SAP domain-containing protein', 'Polycomb group RING finger protein 1', 'Na', 'Na', 'Mu-type opioid receptor', 'Collectin-11', 'Receptor transporter protein 1', 'Na', 'ST6 beta-galactoside alpha-2,6-sialyltransferase 1', 'Na', 'Adiponectin', 'Replication factor C subunit 4']\n"
     ]
    },
    {
     "data": {
      "text/plain": [
       "15"
      ]
     },
     "execution_count": 33,
     "metadata": {},
     "output_type": "execute_result"
    }
   ],
   "source": [
    "###########################################\n",
    "# COLUMNA4 PROTEIN                        #\n",
    "###########################################\n",
    "\n",
    "PROTEINA1=[] \n",
    "\n",
    "for i in urls:\n",
    "    if i==\"Na\": \n",
    "        PROTEINA1.append(\"Na\")\n",
    "\n",
    "    else:      \n",
    "        url = i \n",
    "        html = urllib.request.urlopen(url, context=ctx).read() \n",
    "        links = re.findall(b'<h1 property=\"name\">([a-zA-Z0-9].*?)<', html)\n",
    "        for link in links:\n",
    "            nuevo=link.decode() \n",
    "            PROTEINA1=PROTEINA1+[nuevo] \n",
    "            \n",
    "print(PROTEINA1)\n",
    "len(PROTEINA1)"
   ]
  },
  {
   "cell_type": "code",
   "execution_count": 37,
   "metadata": {},
   "outputs": [
    {
     "data": {
      "text/plain": [
       "'Collectin-11'"
      ]
     },
     "execution_count": 37,
     "metadata": {},
     "output_type": "execute_result"
    }
   ],
   "source": [
    "PROTEINA = PROTEINA1[8]\n",
    "PROTEINA"
   ]
  },
  {
   "cell_type": "code",
   "execution_count": 38,
   "metadata": {},
   "outputs": [
    {
     "name": "stdout",
     "output_type": "stream",
     "text": [
      "['Na', 'Na', 'Na', 'DPPA2', 'PCGF1', 'Na', 'Na', 'OPRM1', 'COLEC11', 'RTP1', 'Na', 'ST6GAL1', 'Na', 'ADIPOQ', 'RFC4']\n"
     ]
    },
    {
     "data": {
      "text/plain": [
       "15"
      ]
     },
     "execution_count": 38,
     "metadata": {},
     "output_type": "execute_result"
    }
   ],
   "source": [
    "#######################################################\n",
    "# COLUMNA5 Gene                                       #\n",
    "#######################################################\n",
    "\n",
    "ctx = ssl.create_default_context()                    \n",
    "ctx.check_hostname = False                           \n",
    "ctx.verify_mode = ssl.CERT_NONE  \n",
    "\n",
    "GENES1=[] \n",
    "\n",
    "for i in urls: \n",
    "    if i==\"Na\":\n",
    "        GENES1.append(\"Na\")\n",
    "    else:       \n",
    "        url = i  \n",
    "        html = urllib.request.urlopen(url, context=ctx).read() \n",
    "        links = re.findall(b'<h2>([A-Z].*?)<', html) \n",
    "\n",
    "        if len(re.findall(b'<h2>([A-Z].*?)<', html))==1: \n",
    "            for link in links:\n",
    "                nuevo=link.decode()\n",
    "                GENES1=GENES1+[nuevo] \n",
    "        else:\n",
    "        \n",
    "            GENES1=GENES1+[\"N/A\"]\n",
    "print(GENES1)\n",
    "len(GENES1)"
   ]
  },
  {
   "cell_type": "code",
   "execution_count": 40,
   "metadata": {},
   "outputs": [
    {
     "data": {
      "text/plain": [
       "'COLEC11'"
      ]
     },
     "execution_count": 40,
     "metadata": {},
     "output_type": "execute_result"
    }
   ],
   "source": [
    "GENE = GENES1[8]\n",
    "GENE"
   ]
  },
  {
   "cell_type": "code",
   "execution_count": 41,
   "metadata": {},
   "outputs": [
    {
     "name": "stdout",
     "output_type": "stream",
     "text": [
      "['Na', 'Na', 'Na', 'Bos taurus (Bovine)', 'Bos taurus (Bovine)', 'Na', 'Na', 'Bos taurus (Bovine)', 'Bos taurus (Bovine)', 'Bos taurus (Bovine)', 'Na', 'Bos taurus (Bovine)', 'Na', 'Bos taurus (Bovine)', 'Bos taurus (Bovine)']\n"
     ]
    },
    {
     "data": {
      "text/plain": [
       "15"
      ]
     },
     "execution_count": 41,
     "metadata": {},
     "output_type": "execute_result"
    }
   ],
   "source": [
    "ORGANISMO1=[] \n",
    "for i in urls:\n",
    "    if i==\"Na\": \n",
    "        ORGANISMO1.append(\"Na\") \n",
    "    else:        \n",
    "        url = i \n",
    "        html = urllib.request.urlopen(url, context=ctx).read() \n",
    "        links = re.findall(b'<em>([A-Z].*?)</em>', html)\n",
    "        if  len(links)==2:  \n",
    "            ORGANISMO1=ORGANISMO1+ [links[1]]   \n",
    "        else:\n",
    "            for link in links:\n",
    "                nuevo=link.decode()\n",
    "                ORGANISMO1=ORGANISMO1+[nuevo] \n",
    "print(ORGANISMO1)\n",
    "len(ORGANISMO1)"
   ]
  },
  {
   "cell_type": "code",
   "execution_count": 43,
   "metadata": {},
   "outputs": [
    {
     "data": {
      "text/plain": [
       "'Bos taurus (Bovine)'"
      ]
     },
     "execution_count": 43,
     "metadata": {},
     "output_type": "execute_result"
    }
   ],
   "source": [
    "ORGANISM = ORGANISMO1[8]\n",
    "ORGANISM"
   ]
  },
  {
   "cell_type": "code",
   "execution_count": 45,
   "metadata": {},
   "outputs": [
    {
     "name": "stdout",
     "output_type": "stream",
     "text": [
      "['Na', 'Na', 'Na', 'Unreviewed', 'Reviewed', 'Na', 'Na', 'Reviewed', 'Reviewed', 'Unreviewed', 'Na', 'Unreviewed', 'Na', 'Reviewed', 'Unreviewed']\n"
     ]
    },
    {
     "data": {
      "text/plain": [
       "15"
      ]
     },
     "execution_count": 45,
     "metadata": {},
     "output_type": "execute_result"
    }
   ],
   "source": [
    "#######################################################\n",
    "# COLUMNA7 STATUS                                     #\n",
    "#######################################################\n",
    "\n",
    "STATUS1=[] \n",
    "\n",
    "for i in urls:\n",
    "    if i==\"Na\": \n",
    "        STATUS1.append(\"Na\")\n",
    "    else:        \n",
    "        url = i \n",
    "        html = urllib.request.urlopen(url, context=ctx).read() \n",
    "        links = re.findall(b'<span>([UR].*viewed)', html)\n",
    "        for link in links:\n",
    "            nuevo=link.decode() \n",
    "            STATUS1=STATUS1+[nuevo] \n",
    "print(STATUS1) \n",
    "len(STATUS1)"
   ]
  },
  {
   "cell_type": "code",
   "execution_count": 47,
   "metadata": {},
   "outputs": [
    {
     "data": {
      "text/plain": [
       "'Reviewed'"
      ]
     },
     "execution_count": 47,
     "metadata": {},
     "output_type": "execute_result"
    }
   ],
   "source": [
    "STATUS = STATUS1[8]\n",
    "STATUS"
   ]
  },
  {
   "cell_type": "code",
   "execution_count": 48,
   "metadata": {},
   "outputs": [
    {
     "name": "stdout",
     "output_type": "stream",
     "text": [
      "['Na', 'Na', 'Na', 'Na', 'histone H2A-K119 monoubiquitination.', 'Na', 'Na', 'adenylate cyclase-inhibiting G protein-coupled acetylcholine receptor signaling pathway.negative regulation of cAMP-mediated signaling.negative regulation of cytosolic calcium ion concentration.negative regulation of nitric oxide biosynthetic process.negative regulation of Wnt protein secretion.opioid receptor signaling pathway.phospholipase C-activating G protein-coupled receptor signaling pathway.positive regulation of ERK1 and ERK2 cascade.positive regulation of neurogenesis.regulation of NMDA receptor activity.sensory perception of pain.', 'antimicrobial humoral response.complement activation, lectin pathway.developmental process.multicellular organism development.', 'detection of chemical stimulus involved in sensory perception of bitter taste.protein insertion into membrane.protein targeting to membrane.', 'Na', 'N-acetylneuraminate metabolic process.protein N-linked glycosylation via asparagine.', 'Na', 'brown fat cell differentiation.cellular response to drug.cellular response to insulin stimulus.detection of oxidative stress.fatty acid beta-oxidation.fatty acid oxidation.glucose homeostasis.glucose metabolic process.low-density lipoprotein particle clearance.negative regulation of blood pressure.negative regulation of cell migration.negative regulation of DNA biosynthetic process.negative regulation of ERK1 and ERK2 cascade.negative regulation of fat cell differentiation.negative regulation of gluconeogenesis.negative regulation of granulocyte differentiation.negative regulation of heterotypic cell-cell adhesion.negative regulation of I-kappaB kinase/NF-kappaB signaling.negative regulation of inflammatory response.negative regulation of intracellular protein transport.negative regulation of macrophage derived foam cell differentiation.negative regulation of macrophage differentiation.negative regulation of MAP kinase activity.negative regulation of metanephric mesenchymal cell migration.negative regulation of phagocytosis.negative regulation of platelet-derived growth factor receptor-alpha signaling pathway.negative regulation of platelet-derived growth factor receptor signaling pathway.negative regulation of protein autophosphorylation.negative regulation of receptor binding.negative regulation of synaptic transmission.negative regulation of transcription, DNA-templated.negative regulation of tumor necrosis factor-mediated signaling pathway.negative regulation of tumor necrosis factor production.negative regulation of vascular associated smooth muscle cell migration.negative regulation of vascular associated smooth muscle cell proliferation.positive regulation of cAMP-dependent protein kinase activity.positive regulation of cholesterol efflux.positive regulation of fatty acid metabolic process.positive regulation of glucose import.positive regulation of glycogen (starch) synthase activity.positive regulation of I-kappaB kinase/NF-kappaB signaling.positive regulation of interleukin-8 production.positive regulation of lipid transporter activity.positive regulation of metanephric glomerular visceral epithelial cell development.positive regulation of monocyte chemotactic protein-1 production.positive regulation of myeloid cell apoptotic process.positive regulation of protein kinase A signaling.positive regulation of protein phosphorylation.positive regulation of renal albumin absorption.positive regulation of signal transduction.protein localization to plasma membrane.regulation of glucose metabolic process.response to glucose.response to tumor necrosis factor.', 'DNA-dependent DNA replication.DNA repair.positive regulation of DNA-directed DNA polymerase activity.']\n"
     ]
    },
    {
     "data": {
      "text/plain": [
       "15"
      ]
     },
     "execution_count": 48,
     "metadata": {},
     "output_type": "execute_result"
    }
   ],
   "source": [
    "#######################################################\n",
    "# COLUMNA8 GO - Biological process                    #\n",
    "#######################################################\n",
    "\n",
    "GO_Biological_process1 = [] \n",
    "\n",
    "for i in urls:\n",
    "    if i==\"Na\": \n",
    "        GO_Biological_process1.append(\"Na\") \n",
    "    else:\n",
    "        uclient=urlopen(i)  \n",
    "        pagehtml=uclient.read()\n",
    "        uclient.close()                                    \n",
    "        pagesoup=soup(pagehtml, \"html.parser\") \n",
    "        page=pagesoup.find(\"ul\",{\"class\":\"noNumbering biological_process\"}) \n",
    "                                                          \n",
    "        if page==None:\n",
    "            GO_Biological_process1.append(\"Na\")\n",
    "        else:\n",
    "            location=page.find_all(\"a\",{\"onclick\":\"window.ga('UniProt-Entry-View', 'click', 'Display-GO-Term');\"})\n",
    "            \n",
    "            cadena = \"\" \n",
    "            for i in range(0,len(location)): \n",
    "                if location[i].text==\"\": \n",
    "                    cadena = cadena + \"-\"\n",
    "                else: \n",
    "\n",
    "                    cadena = cadena + location[i].text + \".\"\n",
    "            GO_Biological_process1.append(cadena) \n",
    "\n",
    "print(GO_Biological_process1)\n",
    "len(GO_Biological_process1)"
   ]
  },
  {
   "cell_type": "code",
   "execution_count": 50,
   "metadata": {},
   "outputs": [
    {
     "data": {
      "text/plain": [
       "'antimicrobial humoral response.complement activation, lectin pathway.developmental process.multicellular organism development.'"
      ]
     },
     "execution_count": 50,
     "metadata": {},
     "output_type": "execute_result"
    }
   ],
   "source": [
    "GO_Biological_process = GO_Biological_process1[8]\n",
    "GO_Biological_process"
   ]
  },
  {
   "cell_type": "code",
   "execution_count": 51,
   "metadata": {},
   "outputs": [
    {
     "name": "stdout",
     "output_type": "stream",
     "text": [
      "['Na', 'Na', 'Na', 'Na', 'Repressor.', 'Na', 'Na', 'G-protein coupled receptor.Receptor.Transducer.', 'Developmental protein.', 'Na', 'Na', 'Glycosyltransferase.Transferase.', 'Na', 'Hormone.', 'Na']\n"
     ]
    },
    {
     "data": {
      "text/plain": [
       "15"
      ]
     },
     "execution_count": 51,
     "metadata": {},
     "output_type": "execute_result"
    }
   ],
   "source": [
    "#######################################################\n",
    "# COLUMNA9 MOLECULAR FUNCTION                         #\n",
    "#######################################################\n",
    "\n",
    "MOLECULAR_FUNCTION1=[] \n",
    "\n",
    "for link in urls: \n",
    "    if link==\"Na\":\n",
    "        MOLECULAR_FUNCTION1.append(\"Na\")\n",
    "    else: \n",
    "        \n",
    "        uclient=urlopen(link) \n",
    "        pagehtml=uclient.read()\n",
    "        uclient.close() \n",
    "        pagesoup=soup(pagehtml, \"html.parser\")\n",
    "        \n",
    "        if pagesoup.find(\"div\",{\"id\":\"function\"}): \n",
    "            section=pagesoup.find(\"div\",{\"id\":\"function\"}) \n",
    "            if section.find(\"table\",{\"class\":\"databaseTable\"}):\n",
    "                tabla=section.find(\"table\",{\"class\":\"databaseTable\"}) \n",
    "                span=tabla.find(\"tbody\") \n",
    "                td=tabla.find_all(\"td\") \n",
    "                for i in range(len(td)): \n",
    "                    if td[i].text == \"Molecular function\": \n",
    "                        span=td[i+1].find_all(\"span\",recursive=False) \n",
    "                                                                     \n",
    "                        span_0=span[0].find_all(\"a\",recursive=False)\n",
    "                                                                    \n",
    "                        string=\"\"\n",
    "                        for L in span_0:\n",
    "                            string= string  + L.text + \".\" \n",
    "\n",
    "                        MOLECULAR_FUNCTION1.append(string) \n",
    "                        break             \n",
    "                    else:\n",
    "                        if  i != (len(td)-1): \n",
    "                            continue \n",
    "                        else:\n",
    "                            MOLECULAR_FUNCTION1.append('Na') \n",
    "            else :\n",
    "                MOLECULAR_FUNCTION1.append(\"Na\") \n",
    "                                                \n",
    "        else:\n",
    "            MOLECULAR_FUNCTION1.append(\"Na\") \n",
    "                                                \n",
    "print(MOLECULAR_FUNCTION1)\n",
    "len(MOLECULAR_FUNCTION1)"
   ]
  },
  {
   "cell_type": "code",
   "execution_count": 53,
   "metadata": {},
   "outputs": [
    {
     "data": {
      "text/plain": [
       "'Developmental protein.'"
      ]
     },
     "execution_count": 53,
     "metadata": {},
     "output_type": "execute_result"
    }
   ],
   "source": [
    "MOLECULAR_FUNCTION = MOLECULAR_FUNCTION1[8]\n",
    "MOLECULAR_FUNCTION"
   ]
  },
  {
   "cell_type": "code",
   "execution_count": 54,
   "metadata": {},
   "outputs": [
    {
     "name": "stdout",
     "output_type": "stream",
     "text": [
      "['Na', 'Na', 'Na', 'Transcription.Transcription regulation.', 'Transcription.Transcription regulation.', 'Na', 'Na', 'Na', 'Immunity.Innate immunity.', 'Na', 'Na', 'Na', 'Na', 'Na', 'Na']\n"
     ]
    },
    {
     "data": {
      "text/plain": [
       "15"
      ]
     },
     "execution_count": 54,
     "metadata": {},
     "output_type": "execute_result"
    }
   ],
   "source": [
    "#######################################################\n",
    "# COLUMNA9 BIOLOGICAL PROCESS                         #\n",
    "#######################################################\n",
    "\n",
    "BIOLOGICAL_PROCESS1=[] \n",
    " \n",
    "for link in urls: \n",
    "    \n",
    "    if link==\"Na\": \n",
    "        BIOLOGICAL_PROCESS1.append(\"Na\")        \n",
    "    else:  \n",
    "        uclient=urlopen(link) \n",
    "        pagehtml=uclient.read() \n",
    "        uclient.close() \n",
    "        pagesoup=soup(pagehtml, \"html.parser\") \n",
    "        \n",
    "        if pagesoup.find(\"div\",{\"id\":\"function\"}): \n",
    "            section=pagesoup.find(\"div\",{\"id\":\"function\"}) \n",
    "             \n",
    "            if section.find(\"table\",{\"class\":\"databaseTable\"}): \n",
    "               \n",
    "                tabla=section.find(\"table\",{\"class\":\"databaseTable\"}) \n",
    "                td=tabla.find_all(\"td\") \n",
    "                \n",
    "                for i in range(len(td)): \n",
    "                    if td[i].text == \"Biological process\": \n",
    "                        index= i+1                                 \n",
    "                        span=td[index].find_all(\"span\",recursive=False) \n",
    "                        span_0=span[0].find_all(\"a\",recursive=False)  \n",
    "                                                                     \n",
    "                        string=\"\" \n",
    "\n",
    "                        for L in span_0:              \n",
    "                            string= string  + L.text +  \".\" \n",
    "                                                           \n",
    "\n",
    "                        BIOLOGICAL_PROCESS1.append(string)\n",
    "                        break               \n",
    "                    else: \n",
    "                        if  i != (len(td)-1): \n",
    "                            continue         \n",
    "                        else: \n",
    "                            BIOLOGICAL_PROCESS1.append('Na')                                                     \n",
    "            else :\n",
    "                BIOLOGICAL_PROCESS1.append(\"Na\")\n",
    "        else:            \n",
    "            BIOLOGICAL_PROCESS1.append(\"Na\") \n",
    "        \n",
    "print(BIOLOGICAL_PROCESS1)\n",
    "len(BIOLOGICAL_PROCESS1)"
   ]
  },
  {
   "cell_type": "code",
   "execution_count": 56,
   "metadata": {},
   "outputs": [
    {
     "data": {
      "text/plain": [
       "'Immunity.Innate immunity.'"
      ]
     },
     "execution_count": 56,
     "metadata": {},
     "output_type": "execute_result"
    }
   ],
   "source": [
    "BIOLOGICAL_PROCESS = BIOLOGICAL_PROCESS1[8]\n",
    "BIOLOGICAL_PROCESS"
   ]
  }
 ],
 "metadata": {
  "kernelspec": {
   "display_name": "Python 3",
   "language": "python",
   "name": "python3"
  },
  "language_info": {
   "codemirror_mode": {
    "name": "ipython",
    "version": 3
   },
   "file_extension": ".py",
   "mimetype": "text/x-python",
   "name": "python",
   "nbconvert_exporter": "python",
   "pygments_lexer": "ipython3",
   "version": "3.7.6"
  }
 },
 "nbformat": 4,
 "nbformat_minor": 4
}
