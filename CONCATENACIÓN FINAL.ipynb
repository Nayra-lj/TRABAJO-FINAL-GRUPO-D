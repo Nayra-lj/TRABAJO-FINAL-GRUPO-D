{
 "cells": [
  {
   "cell_type": "code",
   "execution_count": 23,
   "metadata": {},
   "outputs": [],
   "source": [
    "import openpyxl\n",
    "import pandas as pd\n",
    "\n",
    "\n",
    "##### ipiynb aparte\n",
    "P1 = \"PARTE_1_completa.xlsx\"\n",
    "P2=  \"Excel2.xlsx\"\n",
    "P3 = \"Reporte_aldair(parte3).xlsx\"\n",
    "\n",
    "d1 = pd.read_excel(P1)\n",
    "d2 = pd.read_excel(P2)\n",
    "d3 = pd.read_excel(P3)\n",
    "\n",
    "\n",
    "values1 = d1[['Gen abrev','Entry','Entry name','Protein','Gene','Organism','Status', 'GO-Biological process','Molecular function','Biological process']]\n",
    "values2 = d2[['Gen abrev','Entry','Entry name','Protein','Gene','Organism','Status', 'GO-Biological process','Molecular function','Biological process']]\n",
    "values3 = d3[['Gen abrev','Entry','Entry name','Protein','Gene','Organism','Status', 'GO-Biological process','Molecular function','Biological process']]\n",
    "\n",
    "dataframes = [values1,values2,values3]\n",
    "join = pd.concat(dataframes)\n",
    "join.to_excel('Reporte.xlsx', index=False)\n"
   ]
  },
  {
   "cell_type": "code",
   "execution_count": null,
   "metadata": {},
   "outputs": [],
   "source": []
  }
 ],
 "metadata": {
  "kernelspec": {
   "display_name": "Python 3",
   "language": "python",
   "name": "python3"
  },
  "language_info": {
   "codemirror_mode": {
    "name": "ipython",
    "version": 3
   },
   "file_extension": ".py",
   "mimetype": "text/x-python",
   "name": "python",
   "nbconvert_exporter": "python",
   "pygments_lexer": "ipython3",
   "version": "3.8.5"
  }
 },
 "nbformat": 4,
 "nbformat_minor": 4
}
