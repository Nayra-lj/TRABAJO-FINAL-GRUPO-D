{
 "cells": [
  {
   "cell_type": "code",
   "execution_count": 10,
   "metadata": {},
   "outputs": [],
   "source": [
    "import openpyxl\n",
    "import pandas as pd\n",
    "\n",
    "\n",
    "##### ipiynb aparte\n",
    "P1 = \"Parte1.xlsx\"\n",
    "P2=  \"Parte2.xlsx\"\n",
    "P3 = \"Parte3.xlsx\"\n",
    "P4 = \"Parte4.xlsx\"\n",
    "P5=  \"Parte5.xlsx\"\n",
    "\n",
    "df1 = pd.read_excel(P1)\n",
    "df2 = pd.read_excel(P2)\n",
    "df3 = pd.read_excel(P3)\n",
    "df4 = pd.read_excel(P4)\n",
    "df5 = pd.read_excel(P5)\n",
    "\n",
    "\n",
    "values1 = df1[['Gen abrev','Entry','Entry name','Protein','Gene','Organism','Status', 'GO-Biological process']]\n",
    "values2 = df2[['Gen abrev','Entry','Entry name','Protein','Gene','Organism','Status', 'GO-Biological process']]\n",
    "values3 = df3[['Gen abrev','Entry','Entry name','Protein','Gene','Organism','Status', 'GO-Biological process']]\n",
    "values4 = df4[['Gen abrev','Entry','Entry name','Protein','Gene','Organism','Status', 'GO-Biological process']]\n",
    "values5 = df5[['Gen abrev','Entry','Entry name','Protein','Gene','Organism','Status', 'GO-Biological process']]\n",
    "\n",
    "\n",
    "dataframes = [values1,values2,values3,values4,values5]\n",
    "\n",
    "join = pd.concat(dataframe)\n",
    "\n",
    "join.to_excel('8_1ras_column.xlsx', index=False)"
   ]
  },
  {
   "cell_type": "code",
   "execution_count": null,
   "metadata": {},
   "outputs": [],
   "source": []
  }
 ],
 "metadata": {
  "kernelspec": {
   "display_name": "Python 3",
   "language": "python",
   "name": "python3"
  },
  "language_info": {
   "codemirror_mode": {
    "name": "ipython",
    "version": 3
   },
   "file_extension": ".py",
   "mimetype": "text/x-python",
   "name": "python",
   "nbconvert_exporter": "python",
   "pygments_lexer": "ipython3",
   "version": "3.8.5"
  }
 },
 "nbformat": 4,
 "nbformat_minor": 4
}
