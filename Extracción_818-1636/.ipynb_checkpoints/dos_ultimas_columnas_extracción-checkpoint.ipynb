{
 "cells": [
  {
   "cell_type": "code",
   "execution_count": 2,
   "metadata": {},
   "outputs": [],
   "source": [
    "from bs4 import BeautifulSoup as soup\n",
    "import requests\n",
    "import urllib.request   \n",
    "import pandas as pd\n",
    "from urllib.request import urlopen"
   ]
  },
  {
   "cell_type": "markdown",
   "metadata": {},
   "source": [
    "### Extacción  de las 2 últimas columnas "
   ]
  },
  {
   "cell_type": "code",
   "execution_count": 40,
   "metadata": {},
   "outputs": [
    {
     "data": {
      "text/plain": [
       "818"
      ]
     },
     "execution_count": 40,
     "metadata": {},
     "output_type": "execute_result"
    }
   ],
   "source": [
    "df = pd.read_excel(\"8_1ras_column.xlsx\")\n",
    "df['Entry']\n",
    "Entry=[]\n",
    "for i in range(len(df)):\n",
    "    Entry.append(df['Entry'][i])\n",
    "#print(Entry)    \n",
    "len(Entry)"
   ]
  },
  {
   "cell_type": "code",
   "execution_count": 41,
   "metadata": {},
   "outputs": [
    {
     "data": {
      "text/plain": [
       "818"
      ]
     },
     "execution_count": 41,
     "metadata": {},
     "output_type": "execute_result"
    }
   ],
   "source": [
    "#Generando urls\n",
    "urls=[]\n",
    "for i in Entry:\n",
    "    if i==\"Na\":\n",
    "        urls.append(0)\n",
    "    else:\n",
    "        urls.append(\"https://www.uniprot.org/uniprot/\"+str(i))\n",
    "#print(urls)\n",
    "len(urls)"
   ]
  },
  {
   "cell_type": "markdown",
   "metadata": {},
   "source": [
    "#### Extracción de 100 en 100 para la Varianle Molecular function"
   ]
  },
  {
   "cell_type": "code",
   "execution_count": 55,
   "metadata": {},
   "outputs": [
    {
     "name": "stdout",
     "output_type": "stream",
     "text": [
      "['Chromatin regulator.', 'Na', 'G-protein coupled receptor.Receptor.Transducer.', 'Chromatin regulator.Hydrolase.Repressor.', 'Methyltransferase.RNA-binding.Transferase.tRNA-binding.', 'Na', 'Oxidoreductase.Transferase.', 'Na', 'Na', 'Ribonucleoprotein.Ribosomal protein.', 'Na', 'Na', 'Na', 'Na', 'Ion channel.Sodium channel.', 'Receptor.', 'Na', 'Na', 'Na', 'Na', 'Na', 'Na', 'Growth factor.', 'Na', 'Na', 'Na', 'Ion channel.Potassium channel.Voltage-gated channel.', 'Ion channel.Oxidoreductase.Voltage-gated channel.', 'Ion channel.Oxidoreductase.Voltage-gated channel.', 'Glycosyltransferase.Transferase.', 'Na', 'Kinase.Serine/threonine-protein kinase.Transferase.', 'DNA-binding.', 'Na', 'Na', 'Na', 'Na', 'Hydrolase.', 'Cyclin.', 'Na', 'Na', 'Na', 'Glycosyltransferase.Transferase.', 'Na', 'Developmental protein.Kinase.Transferase.Tyrosine-protein kinase.', 'Na', 'Na', 'Na', 'Na', 'Na', 'Na', 'Kinase.Serine/threonine-protein kinase.Transferase.', 'Na', 'Na', 'Kinase.Serine/threonine-protein kinase.Transferase.', 'Na', 'Na', 'Na', 'Na', 'Chaperone.Isomerase.Rotamase.', 'Helicase.Hydrolase.', 'Actin-binding.', 'Na', 'Na', 'Na', 'Na', 'Na', 'Activator.DNA-binding.', 'Na', 'Na', 'Transferase.', 'Na', 'Na', 'Na', 'Na', 'Na', 'Na', 'Na', 'Kinase.Transferase.', 'Na', 'Actin-binding.Monooxygenase.Oxidoreductase.', 'Na', 'Na', 'Developmental protein.', 'Na', 'Receptor.', 'Na', 'Calcium channel.Ion channel.Voltage-gated channel.', 'Na', 'Hydrolase.', 'Na', 'Na', 'Na', 'Na', 'Na', 'DNA-binding.', 'Na', 'Na', 'Na', 'Na']\n"
     ]
    },
    {
     "data": {
      "text/plain": [
       "100"
      ]
     },
     "execution_count": 55,
     "metadata": {},
     "output_type": "execute_result"
    }
   ],
   "source": [
    "MOLECULAR_FUNCTION7=[]\n",
    "\n",
    "for link in urls[600:700]:\n",
    "    if link==0:\n",
    "        MOLECULAR_FUNCTION7.append(\"Na\")\n",
    "    else:\n",
    "        \n",
    "        uclient=urlopen(link)\n",
    "        pagehtml=uclient.read()\n",
    "        uclient.close()\n",
    "        pagesoup=soup(pagehtml, \"html.parser\")\n",
    "        \n",
    "        if pagesoup.find(\"div\",{\"id\":\"function\"}):\n",
    "            section=pagesoup.find(\"div\",{\"id\":\"function\"})\n",
    "            if section.find(\"table\",{\"class\":\"databaseTable\"}): \n",
    "                tabla=section.find(\"table\",{\"class\":\"databaseTable\"})\n",
    "                span=tabla.find(\"tbody\")\n",
    "                td=tabla.find_all(\"td\")\n",
    "                for i in range(len(td)):\n",
    "                    if td[i].text == \"Molecular function\":\n",
    "                        span=td[i+1].find_all(\"span\",recursive=False)\n",
    "                        span_0=span[0].find_all(\"a\",recursive=False)\n",
    "                        string=\"\"\n",
    "                        for L in span_0:\n",
    "                            string= string  + L.text + \".\"\n",
    "\n",
    "                        MOLECULAR_FUNCTION7.append(string)\n",
    "                        break                   \n",
    "                    else:\n",
    "                        if  i != (len(td)-1):\n",
    "                            #print(i)\n",
    "                            continue\n",
    "                        else:\n",
    "                            MOLECULAR_FUNCTION7.append('Na') \n",
    "            else :\n",
    "                MOLECULAR_FUNCTION7.append(\"Na\")\n",
    "        else:\n",
    "            MOLECULAR_FUNCTION7.append(\"Na\")\n",
    "        \n",
    "print(MOLECULAR_FUNCTION7)\n",
    "len(MOLECULAR_FUNCTION7)"
   ]
  },
  {
   "cell_type": "code",
   "execution_count": 56,
   "metadata": {},
   "outputs": [],
   "source": [
    "COL_MOLECULAR=  MOLECULAR_FUNCTION1 +MOLECULAR_FUNCTION2 + MOLECULAR_FUNCTION3 + MOLECULAR_FUNCTION4 +  MOLECULAR_FUNCTION5 + MOLECULAR_FUNCTION6+MOLECULAR_FUNCTION7 +MOLECULAR_FUNCTION8+MOLECULAR_FUNCTION9"
   ]
  },
  {
   "cell_type": "code",
   "execution_count": 58,
   "metadata": {},
   "outputs": [
    {
     "data": {
      "text/plain": [
       "818"
      ]
     },
     "execution_count": 58,
     "metadata": {},
     "output_type": "execute_result"
    }
   ],
   "source": [
    "#Cada 100 extracción se almaceno en una variable y luego se sumaron las listas , y formaron las lista de Molecular function de los 818 genes"
   ]
  },
  {
   "cell_type": "code",
   "execution_count": 59,
   "metadata": {},
   "outputs": [
    {
     "data": {
      "text/html": [
       "<div>\n",
       "<style scoped>\n",
       "    .dataframe tbody tr th:only-of-type {\n",
       "        vertical-align: middle;\n",
       "    }\n",
       "\n",
       "    .dataframe tbody tr th {\n",
       "        vertical-align: top;\n",
       "    }\n",
       "\n",
       "    .dataframe thead th {\n",
       "        text-align: right;\n",
       "    }\n",
       "</style>\n",
       "<table border=\"1\" class=\"dataframe\">\n",
       "  <thead>\n",
       "    <tr style=\"text-align: right;\">\n",
       "      <th></th>\n",
       "      <th>Gen abrev</th>\n",
       "      <th>Entry</th>\n",
       "      <th>Entry name</th>\n",
       "      <th>Protein</th>\n",
       "      <th>Gene</th>\n",
       "      <th>Organism</th>\n",
       "      <th>Status</th>\n",
       "      <th>GO-Biological process</th>\n",
       "      <th>Molecular function</th>\n",
       "    </tr>\n",
       "  </thead>\n",
       "  <tbody>\n",
       "    <tr>\n",
       "      <th>0</th>\n",
       "      <td>MIR2426</td>\n",
       "      <td>Na</td>\n",
       "      <td>Na</td>\n",
       "      <td>Na</td>\n",
       "      <td>Na</td>\n",
       "      <td>Na</td>\n",
       "      <td>Na</td>\n",
       "      <td>Na</td>\n",
       "      <td>Na</td>\n",
       "    </tr>\n",
       "    <tr>\n",
       "      <th>1</th>\n",
       "      <td>PRKAG1</td>\n",
       "      <td>P58108</td>\n",
       "      <td>AAKG1_BOVIN</td>\n",
       "      <td>5'-AMP-activated protein kinase subunit gamma-1</td>\n",
       "      <td>PRKAG1</td>\n",
       "      <td>Bos taurus (Bovine)</td>\n",
       "      <td>Reviewed</td>\n",
       "      <td>cellular response to glucose starvation.fatty ...</td>\n",
       "      <td>Na</td>\n",
       "    </tr>\n",
       "    <tr>\n",
       "      <th>2</th>\n",
       "      <td>DDN</td>\n",
       "      <td>Q3B7N2</td>\n",
       "      <td>ACTN1_BOVIN</td>\n",
       "      <td>Alpha-actinin-1</td>\n",
       "      <td>ACTN1</td>\n",
       "      <td>Bos taurus (Bovine)</td>\n",
       "      <td>Reviewed</td>\n",
       "      <td>establishment of localization.regulation of AT...</td>\n",
       "      <td>Actin-binding.</td>\n",
       "    </tr>\n",
       "    <tr>\n",
       "      <th>3</th>\n",
       "      <td>WNT10B</td>\n",
       "      <td>F1MK64</td>\n",
       "      <td>F1MK64_BOVIN</td>\n",
       "      <td>Protein Wnt</td>\n",
       "      <td>WNT10B</td>\n",
       "      <td>Bos taurus (Bovine)</td>\n",
       "      <td>Unreviewed</td>\n",
       "      <td>bone trabecula formation.canonical Wnt signali...</td>\n",
       "      <td>Developmental protein.</td>\n",
       "    </tr>\n",
       "    <tr>\n",
       "      <th>4</th>\n",
       "      <td>LOC112446681</td>\n",
       "      <td>Na</td>\n",
       "      <td>Na</td>\n",
       "      <td>Na</td>\n",
       "      <td>Na</td>\n",
       "      <td>Na</td>\n",
       "      <td>Na</td>\n",
       "      <td>Na</td>\n",
       "      <td>Na</td>\n",
       "    </tr>\n",
       "    <tr>\n",
       "      <th>...</th>\n",
       "      <td>...</td>\n",
       "      <td>...</td>\n",
       "      <td>...</td>\n",
       "      <td>...</td>\n",
       "      <td>...</td>\n",
       "      <td>...</td>\n",
       "      <td>...</td>\n",
       "      <td>...</td>\n",
       "      <td>...</td>\n",
       "    </tr>\n",
       "    <tr>\n",
       "      <th>813</th>\n",
       "      <td>HERC5</td>\n",
       "      <td>Q4JF28</td>\n",
       "      <td>IRF3_BOVIN</td>\n",
       "      <td>Interferon regulatory factor 3</td>\n",
       "      <td>IRF3</td>\n",
       "      <td>Bos taurus (Bovine)</td>\n",
       "      <td>Reviewed</td>\n",
       "      <td>cellular response to virus.defense response to...</td>\n",
       "      <td>Activator.DNA-binding.</td>\n",
       "    </tr>\n",
       "    <tr>\n",
       "      <th>814</th>\n",
       "      <td>HERC6</td>\n",
       "      <td>A0A4W2G550</td>\n",
       "      <td>A0A4W2G550_BOBOX</td>\n",
       "      <td>HECT domain-containing protein</td>\n",
       "      <td>HERC6</td>\n",
       "      <td>Bos indicus x Bos taurus (Hybrid cattle)</td>\n",
       "      <td>Unreviewed</td>\n",
       "      <td>hematopoietic progenitor cell differentiation....</td>\n",
       "      <td>Na</td>\n",
       "    </tr>\n",
       "    <tr>\n",
       "      <th>815</th>\n",
       "      <td>PPM1K</td>\n",
       "      <td>Q2PC20</td>\n",
       "      <td>PPM1K_BOVIN</td>\n",
       "      <td>Protein phosphatase 1K, mitochondrial</td>\n",
       "      <td>PPM1K</td>\n",
       "      <td>Bos taurus (Bovine)</td>\n",
       "      <td>Reviewed</td>\n",
       "      <td>Na</td>\n",
       "      <td>Hydrolase.Protein phosphatase.</td>\n",
       "    </tr>\n",
       "    <tr>\n",
       "      <th>816</th>\n",
       "      <td>ABCG2</td>\n",
       "      <td>Q4GZT4</td>\n",
       "      <td>ABCG2_BOVIN</td>\n",
       "      <td>Broad substrate specificity ATP-binding casset...</td>\n",
       "      <td>ABCG2</td>\n",
       "      <td>Bos taurus (Bovine)</td>\n",
       "      <td>Reviewed</td>\n",
       "      <td>biotin transport.riboflavin transport.transmem...</td>\n",
       "      <td>Translocase.</td>\n",
       "    </tr>\n",
       "    <tr>\n",
       "      <th>817</th>\n",
       "      <td>LOC112447205</td>\n",
       "      <td>Na</td>\n",
       "      <td>Na</td>\n",
       "      <td>Na</td>\n",
       "      <td>Na</td>\n",
       "      <td>Na</td>\n",
       "      <td>Na</td>\n",
       "      <td>Na</td>\n",
       "      <td>Na</td>\n",
       "    </tr>\n",
       "  </tbody>\n",
       "</table>\n",
       "<p>818 rows × 9 columns</p>\n",
       "</div>"
      ],
      "text/plain": [
       "        Gen abrev       Entry        Entry name  \\\n",
       "0         MIR2426          Na                Na   \n",
       "1          PRKAG1      P58108       AAKG1_BOVIN   \n",
       "2             DDN      Q3B7N2       ACTN1_BOVIN   \n",
       "3          WNT10B      F1MK64      F1MK64_BOVIN   \n",
       "4    LOC112446681          Na                Na   \n",
       "..            ...         ...               ...   \n",
       "813         HERC5      Q4JF28        IRF3_BOVIN   \n",
       "814         HERC6  A0A4W2G550  A0A4W2G550_BOBOX   \n",
       "815         PPM1K      Q2PC20       PPM1K_BOVIN   \n",
       "816         ABCG2      Q4GZT4       ABCG2_BOVIN   \n",
       "817  LOC112447205          Na                Na   \n",
       "\n",
       "                                               Protein    Gene  \\\n",
       "0                                                   Na      Na   \n",
       "1      5'-AMP-activated protein kinase subunit gamma-1  PRKAG1   \n",
       "2                                      Alpha-actinin-1   ACTN1   \n",
       "3                                          Protein Wnt  WNT10B   \n",
       "4                                                   Na      Na   \n",
       "..                                                 ...     ...   \n",
       "813                     Interferon regulatory factor 3    IRF3   \n",
       "814                     HECT domain-containing protein   HERC6   \n",
       "815              Protein phosphatase 1K, mitochondrial   PPM1K   \n",
       "816  Broad substrate specificity ATP-binding casset...   ABCG2   \n",
       "817                                                 Na      Na   \n",
       "\n",
       "                                     Organism      Status  \\\n",
       "0                                          Na          Na   \n",
       "1                         Bos taurus (Bovine)    Reviewed   \n",
       "2                         Bos taurus (Bovine)    Reviewed   \n",
       "3                         Bos taurus (Bovine)  Unreviewed   \n",
       "4                                          Na          Na   \n",
       "..                                        ...         ...   \n",
       "813                       Bos taurus (Bovine)    Reviewed   \n",
       "814  Bos indicus x Bos taurus (Hybrid cattle)  Unreviewed   \n",
       "815                       Bos taurus (Bovine)    Reviewed   \n",
       "816                       Bos taurus (Bovine)    Reviewed   \n",
       "817                                        Na          Na   \n",
       "\n",
       "                                 GO-Biological process  \\\n",
       "0                                                   Na   \n",
       "1    cellular response to glucose starvation.fatty ...   \n",
       "2    establishment of localization.regulation of AT...   \n",
       "3    bone trabecula formation.canonical Wnt signali...   \n",
       "4                                                   Na   \n",
       "..                                                 ...   \n",
       "813  cellular response to virus.defense response to...   \n",
       "814  hematopoietic progenitor cell differentiation....   \n",
       "815                                                 Na   \n",
       "816  biotin transport.riboflavin transport.transmem...   \n",
       "817                                                 Na   \n",
       "\n",
       "                 Molecular function  \n",
       "0                                Na  \n",
       "1                                Na  \n",
       "2                    Actin-binding.  \n",
       "3            Developmental protein.  \n",
       "4                                Na  \n",
       "..                              ...  \n",
       "813          Activator.DNA-binding.  \n",
       "814                              Na  \n",
       "815  Hydrolase.Protein phosphatase.  \n",
       "816                    Translocase.  \n",
       "817                              Na  \n",
       "\n",
       "[818 rows x 9 columns]"
      ]
     },
     "execution_count": 59,
     "metadata": {},
     "output_type": "execute_result"
    }
   ],
   "source": [
    "len(COL_MOLECULAR)\n",
    "df = pd.read_excel(\"8_1ras_column.xlsx\")\n",
    "df['Molecular function'] = COL_MOLECULAR\n",
    "df"
   ]
  },
  {
   "cell_type": "code",
   "execution_count": 60,
   "metadata": {},
   "outputs": [],
   "source": [
    "#### creación del excel\n",
    "from pandas import ExcelWriter\n",
    "writer = ExcelWriter('./9columnas.xlsx')\n",
    "df.to_excel(writer, index=False)\n",
    "writer.save()"
   ]
  },
  {
   "cell_type": "code",
   "execution_count": 5,
   "metadata": {},
   "outputs": [
    {
     "name": "stdout",
     "output_type": "stream",
     "text": [
      "['Na', 'Ion transport.Transport.', 'ER-Golgi transport.Protein transport.Transport.', 'Lactose biosynthesis.', 'Na', 'Neurogenesis.Transcription.Transcription regulation.', 'Na', 'Na', 'Na', 'Na', 'Na']\n"
     ]
    },
    {
     "data": {
      "text/plain": [
       "11"
      ]
     },
     "execution_count": 5,
     "metadata": {},
     "output_type": "execute_result"
    }
   ],
   "source": [
    "col_biological_p=[]\n",
    "\n",
    "for link in urls[0:100]:\n",
    "    #print(link)\n",
    "    if link==0:\n",
    "        col_biological_p.append(\"Na\")        \n",
    "    else:        \n",
    "        uclient=urlopen(link)\n",
    "        pagehtml=uclient.read()\n",
    "        uclient.close()\n",
    "        pagesoup=soup(pagehtml, \"html.parser\")\n",
    "        \n",
    "        if pagesoup.find(\"div\",{\"id\":\"function\"}):\n",
    "            \n",
    "            section=pagesoup.find(\"div\",{\"id\":\"function\"})\n",
    "            if section.find(\"table\",{\"class\":\"databaseTable\"}):\n",
    "               \n",
    "                tabla=section.find(\"table\",{\"class\":\"databaseTable\"})\n",
    "                #print(type(tabla))\n",
    "                #span=tabla.find(\"tbody\")\n",
    "                td=tabla.find_all(\"td\")\n",
    "                #print(td)\n",
    "                \n",
    "                for i in range(len(td)):\n",
    "                    if td[i].text == \"Biological process\":\n",
    "                        index= i+1                                        \n",
    "                        span=td[index].find_all(\"span\",recursive=False)                          \n",
    "                        span_0=span[0].find_all(\"a\",recursive=False)\n",
    "                        #print(span_0)\n",
    "                        string=\"\"\n",
    "\n",
    "                        for L in span_0:                          \n",
    "                            string= string  + L.text +  \".\"\n",
    "\n",
    "                        col_biological_p.append(string)\n",
    "                        break                   \n",
    "                    else:\n",
    "                        if  i != (len(td)-1):\n",
    "                            #print(i)\n",
    "                            continue\n",
    "                        else:\n",
    "                            col_biological_p.append('Na')                                                       \n",
    "            else :\n",
    "                col_biological_p.append(\"Na\")\n",
    "        else:            \n",
    "            col_biological_p.append(\"Na\")\n",
    "        \n",
    "print(col_biological_p)\n",
    "len(col_biological_p)"
   ]
  },
  {
   "cell_type": "code",
   "execution_count": null,
   "metadata": {},
   "outputs": [],
   "source": []
  }
 ],
 "metadata": {
  "kernelspec": {
   "display_name": "Python 3",
   "language": "python",
   "name": "python3"
  },
  "language_info": {
   "codemirror_mode": {
    "name": "ipython",
    "version": 3
   },
   "file_extension": ".py",
   "mimetype": "text/x-python",
   "name": "python",
   "nbconvert_exporter": "python",
   "pygments_lexer": "ipython3",
   "version": "3.8.5"
  }
 },
 "nbformat": 4,
 "nbformat_minor": 4
}
